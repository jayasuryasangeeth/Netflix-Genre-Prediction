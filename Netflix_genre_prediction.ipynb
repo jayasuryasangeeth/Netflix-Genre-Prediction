{
  "cells": [
    {
      "cell_type": "markdown",
      "metadata": {
        "colab_type": "text",
        "id": "view-in-github"
      },
      "source": [
        "<a href=\"https://colab.research.google.com/github/akashganesan1/Netflix-Shows-Movies-Genre-Prediction/blob/main/Netflix_genre_prediction.ipynb\" target=\"_parent\"><img src=\"https://colab.research.google.com/assets/colab-badge.svg\" alt=\"Open In Colab\"/></a>"
      ]
    },
    {
      "cell_type": "code",
      "execution_count": 62,
      "metadata": {
        "id": "aPC-9fnOtLOY"
      },
      "outputs": [],
      "source": [
        "#@title Libraries\n",
        "import pandas as pd\n",
        "import numpy as np\n",
        "#from google.colab import drive\n",
        "from sklearn.preprocessing import LabelEncoder\n",
        "from sklearn.tree import DecisionTreeClassifier\n",
        "from sklearn.model_selection import train_test_split\n",
        "from sklearn.metrics import accuracy_score\n",
        "from sklearn.linear_model import LogisticRegression\n",
        "from sklearn.ensemble import RandomForestClassifier\n",
        "from sklearn.model_selection import train_test_split\n",
        "from sklearn.metrics import accuracy_score\n",
        "import seaborn as sns\n",
        "import matplotlib.pyplot as plt\n",
        "from sklearn.metrics import r2_score,make_scorer\n",
        "from sklearn.model_selection import KFold\n",
        "from sklearn.model_selection import cross_val_score\n",
        "from numpy import mean\n",
        "from numpy import absolute\n",
        "from numpy import sqrt\n",
        "from sklearn.svm import SVC\n",
        "from sklearn.neighbors import KNeighborsClassifier"
      ]
    },
    {
      "cell_type": "code",
      "execution_count": 63,
      "metadata": {
        "id": "sccxwLFztaiy"
      },
      "outputs": [],
      "source": [
        "#@title Custom Functions\n",
        "def missing_values_percentage(dataframe):\n",
        "    result= (round((dataframe.isnull().sum() * 100/ len(dataframe)),2).sort_values(ascending=False))\n",
        "    df_missing_values = pd.DataFrame(result,columns=['missing_percentage'])\n",
        "    df_missing_values.reset_index(inplace=True)\n",
        "    df_missing_values = df_missing_values.rename(columns = {'index':'column_name'})\n",
        "    return df_missing_values\n",
        "\n",
        "\n",
        "def deleting_columns(dataframe1,dataframe2):\n",
        "    column_list = dataframe2['column_name'].to_numpy()\n",
        "    for i in column_list:\n",
        "        dataframe1 = dataframe1.drop([i], axis=1)\n",
        "    return dataframe1\n",
        "\n",
        "format_str = '%B %d, %Y'\n",
        "def process_date_str(date_str):\n",
        "    try:\n",
        "        # remove the extra space before the month name\n",
        "        date_str = date_str.strip()\n",
        "        \n",
        "        # parse the date string into a datetime object using the format string\n",
        "        date_obj = datetime.strptime(date_str, format_str)\n",
        "        \n",
        "        # format the datetime object into separate month, day, and year strings\n",
        "        month = date_obj.strftime('%m')\n",
        "        day = date_obj.strftime('%d')\n",
        "        year = date_obj.strftime('%Y')\n",
        "        \n",
        "        # return a tuple of (month, day, year)\n",
        "        return month, day, year\n",
        "    \n",
        "    except ValueError:\n",
        "        # if parsing fails, return a tuple of (None, None, None)\n",
        "        return None, None, None"
      ]
    },
    {
      "cell_type": "code",
      "execution_count": 64,
      "metadata": {
        "cellView": "form",
        "colab": {
          "base_uri": "https://localhost:8080/",
          "height": 658
        },
        "id": "5byM4HTntd36",
        "outputId": "0ef30038-dfd6-4f58-e9d1-10809ad1c55d"
      },
      "outputs": [
        {
          "data": {
            "text/html": [
              "<div>\n",
              "<style scoped>\n",
              "    .dataframe tbody tr th:only-of-type {\n",
              "        vertical-align: middle;\n",
              "    }\n",
              "\n",
              "    .dataframe tbody tr th {\n",
              "        vertical-align: top;\n",
              "    }\n",
              "\n",
              "    .dataframe thead th {\n",
              "        text-align: right;\n",
              "    }\n",
              "</style>\n",
              "<table border=\"1\" class=\"dataframe\">\n",
              "  <thead>\n",
              "    <tr style=\"text-align: right;\">\n",
              "      <th></th>\n",
              "      <th>show_id</th>\n",
              "      <th>type</th>\n",
              "      <th>title</th>\n",
              "      <th>director</th>\n",
              "      <th>cast</th>\n",
              "      <th>country</th>\n",
              "      <th>date_added</th>\n",
              "      <th>release_year</th>\n",
              "      <th>rating</th>\n",
              "      <th>duration</th>\n",
              "      <th>listed_in</th>\n",
              "      <th>description</th>\n",
              "    </tr>\n",
              "  </thead>\n",
              "  <tbody>\n",
              "    <tr>\n",
              "      <th>0</th>\n",
              "      <td>s1</td>\n",
              "      <td>Movie</td>\n",
              "      <td>Dick Johnson Is Dead</td>\n",
              "      <td>Kirsten Johnson</td>\n",
              "      <td>NaN</td>\n",
              "      <td>United States</td>\n",
              "      <td>September 25, 2021</td>\n",
              "      <td>2020</td>\n",
              "      <td>PG-13</td>\n",
              "      <td>90 min</td>\n",
              "      <td>Documentaries</td>\n",
              "      <td>As her father nears the end of his life, filmm...</td>\n",
              "    </tr>\n",
              "    <tr>\n",
              "      <th>1</th>\n",
              "      <td>s2</td>\n",
              "      <td>TV Show</td>\n",
              "      <td>Blood &amp; Water</td>\n",
              "      <td>NaN</td>\n",
              "      <td>Ama Qamata, Khosi Ngema, Gail Mabalane, Thaban...</td>\n",
              "      <td>South Africa</td>\n",
              "      <td>September 24, 2021</td>\n",
              "      <td>2021</td>\n",
              "      <td>TV-MA</td>\n",
              "      <td>2 Seasons</td>\n",
              "      <td>International TV Shows, TV Dramas, TV Mysteries</td>\n",
              "      <td>After crossing paths at a party, a Cape Town t...</td>\n",
              "    </tr>\n",
              "    <tr>\n",
              "      <th>2</th>\n",
              "      <td>s3</td>\n",
              "      <td>TV Show</td>\n",
              "      <td>Ganglands</td>\n",
              "      <td>Julien Leclercq</td>\n",
              "      <td>Sami Bouajila, Tracy Gotoas, Samuel Jouy, Nabi...</td>\n",
              "      <td>NaN</td>\n",
              "      <td>September 24, 2021</td>\n",
              "      <td>2021</td>\n",
              "      <td>TV-MA</td>\n",
              "      <td>1 Season</td>\n",
              "      <td>Crime TV Shows, International TV Shows, TV Act...</td>\n",
              "      <td>To protect his family from a powerful drug lor...</td>\n",
              "    </tr>\n",
              "    <tr>\n",
              "      <th>3</th>\n",
              "      <td>s4</td>\n",
              "      <td>TV Show</td>\n",
              "      <td>Jailbirds New Orleans</td>\n",
              "      <td>NaN</td>\n",
              "      <td>NaN</td>\n",
              "      <td>NaN</td>\n",
              "      <td>September 24, 2021</td>\n",
              "      <td>2021</td>\n",
              "      <td>TV-MA</td>\n",
              "      <td>1 Season</td>\n",
              "      <td>Docuseries, Reality TV</td>\n",
              "      <td>Feuds, flirtations and toilet talk go down amo...</td>\n",
              "    </tr>\n",
              "    <tr>\n",
              "      <th>4</th>\n",
              "      <td>s5</td>\n",
              "      <td>TV Show</td>\n",
              "      <td>Kota Factory</td>\n",
              "      <td>NaN</td>\n",
              "      <td>Mayur More, Jitendra Kumar, Ranjan Raj, Alam K...</td>\n",
              "      <td>India</td>\n",
              "      <td>September 24, 2021</td>\n",
              "      <td>2021</td>\n",
              "      <td>TV-MA</td>\n",
              "      <td>2 Seasons</td>\n",
              "      <td>International TV Shows, Romantic TV Shows, TV ...</td>\n",
              "      <td>In a city of coaching centers known to train I...</td>\n",
              "    </tr>\n",
              "    <tr>\n",
              "      <th>...</th>\n",
              "      <td>...</td>\n",
              "      <td>...</td>\n",
              "      <td>...</td>\n",
              "      <td>...</td>\n",
              "      <td>...</td>\n",
              "      <td>...</td>\n",
              "      <td>...</td>\n",
              "      <td>...</td>\n",
              "      <td>...</td>\n",
              "      <td>...</td>\n",
              "      <td>...</td>\n",
              "      <td>...</td>\n",
              "    </tr>\n",
              "    <tr>\n",
              "      <th>8802</th>\n",
              "      <td>s8803</td>\n",
              "      <td>Movie</td>\n",
              "      <td>Zodiac</td>\n",
              "      <td>David Fincher</td>\n",
              "      <td>Mark Ruffalo, Jake Gyllenhaal, Robert Downey J...</td>\n",
              "      <td>United States</td>\n",
              "      <td>November 20, 2019</td>\n",
              "      <td>2007</td>\n",
              "      <td>R</td>\n",
              "      <td>158 min</td>\n",
              "      <td>Cult Movies, Dramas, Thrillers</td>\n",
              "      <td>A political cartoonist, a crime reporter and a...</td>\n",
              "    </tr>\n",
              "    <tr>\n",
              "      <th>8803</th>\n",
              "      <td>s8804</td>\n",
              "      <td>TV Show</td>\n",
              "      <td>Zombie Dumb</td>\n",
              "      <td>NaN</td>\n",
              "      <td>NaN</td>\n",
              "      <td>NaN</td>\n",
              "      <td>July 1, 2019</td>\n",
              "      <td>2018</td>\n",
              "      <td>TV-Y7</td>\n",
              "      <td>2 Seasons</td>\n",
              "      <td>Kids' TV, Korean TV Shows, TV Comedies</td>\n",
              "      <td>While living alone in a spooky town, a young g...</td>\n",
              "    </tr>\n",
              "    <tr>\n",
              "      <th>8804</th>\n",
              "      <td>s8805</td>\n",
              "      <td>Movie</td>\n",
              "      <td>Zombieland</td>\n",
              "      <td>Ruben Fleischer</td>\n",
              "      <td>Jesse Eisenberg, Woody Harrelson, Emma Stone, ...</td>\n",
              "      <td>United States</td>\n",
              "      <td>November 1, 2019</td>\n",
              "      <td>2009</td>\n",
              "      <td>R</td>\n",
              "      <td>88 min</td>\n",
              "      <td>Comedies, Horror Movies</td>\n",
              "      <td>Looking to survive in a world taken over by zo...</td>\n",
              "    </tr>\n",
              "    <tr>\n",
              "      <th>8805</th>\n",
              "      <td>s8806</td>\n",
              "      <td>Movie</td>\n",
              "      <td>Zoom</td>\n",
              "      <td>Peter Hewitt</td>\n",
              "      <td>Tim Allen, Courteney Cox, Chevy Chase, Kate Ma...</td>\n",
              "      <td>United States</td>\n",
              "      <td>January 11, 2020</td>\n",
              "      <td>2006</td>\n",
              "      <td>PG</td>\n",
              "      <td>88 min</td>\n",
              "      <td>Children &amp; Family Movies, Comedies</td>\n",
              "      <td>Dragged from civilian life, a former superhero...</td>\n",
              "    </tr>\n",
              "    <tr>\n",
              "      <th>8806</th>\n",
              "      <td>s8807</td>\n",
              "      <td>Movie</td>\n",
              "      <td>Zubaan</td>\n",
              "      <td>Mozez Singh</td>\n",
              "      <td>Vicky Kaushal, Sarah-Jane Dias, Raaghav Chanan...</td>\n",
              "      <td>India</td>\n",
              "      <td>March 2, 2019</td>\n",
              "      <td>2015</td>\n",
              "      <td>TV-14</td>\n",
              "      <td>111 min</td>\n",
              "      <td>Dramas, International Movies, Music &amp; Musicals</td>\n",
              "      <td>A scrappy but poor boy worms his way into a ty...</td>\n",
              "    </tr>\n",
              "  </tbody>\n",
              "</table>\n",
              "<p>8807 rows × 12 columns</p>\n",
              "</div>"
            ],
            "text/plain": [
              "     show_id     type                  title         director  \\\n",
              "0         s1    Movie   Dick Johnson Is Dead  Kirsten Johnson   \n",
              "1         s2  TV Show          Blood & Water              NaN   \n",
              "2         s3  TV Show              Ganglands  Julien Leclercq   \n",
              "3         s4  TV Show  Jailbirds New Orleans              NaN   \n",
              "4         s5  TV Show           Kota Factory              NaN   \n",
              "...      ...      ...                    ...              ...   \n",
              "8802   s8803    Movie                 Zodiac    David Fincher   \n",
              "8803   s8804  TV Show            Zombie Dumb              NaN   \n",
              "8804   s8805    Movie             Zombieland  Ruben Fleischer   \n",
              "8805   s8806    Movie                   Zoom     Peter Hewitt   \n",
              "8806   s8807    Movie                 Zubaan      Mozez Singh   \n",
              "\n",
              "                                                   cast        country  \\\n",
              "0                                                   NaN  United States   \n",
              "1     Ama Qamata, Khosi Ngema, Gail Mabalane, Thaban...   South Africa   \n",
              "2     Sami Bouajila, Tracy Gotoas, Samuel Jouy, Nabi...            NaN   \n",
              "3                                                   NaN            NaN   \n",
              "4     Mayur More, Jitendra Kumar, Ranjan Raj, Alam K...          India   \n",
              "...                                                 ...            ...   \n",
              "8802  Mark Ruffalo, Jake Gyllenhaal, Robert Downey J...  United States   \n",
              "8803                                                NaN            NaN   \n",
              "8804  Jesse Eisenberg, Woody Harrelson, Emma Stone, ...  United States   \n",
              "8805  Tim Allen, Courteney Cox, Chevy Chase, Kate Ma...  United States   \n",
              "8806  Vicky Kaushal, Sarah-Jane Dias, Raaghav Chanan...          India   \n",
              "\n",
              "              date_added  release_year rating   duration  \\\n",
              "0     September 25, 2021          2020  PG-13     90 min   \n",
              "1     September 24, 2021          2021  TV-MA  2 Seasons   \n",
              "2     September 24, 2021          2021  TV-MA   1 Season   \n",
              "3     September 24, 2021          2021  TV-MA   1 Season   \n",
              "4     September 24, 2021          2021  TV-MA  2 Seasons   \n",
              "...                  ...           ...    ...        ...   \n",
              "8802   November 20, 2019          2007      R    158 min   \n",
              "8803        July 1, 2019          2018  TV-Y7  2 Seasons   \n",
              "8804    November 1, 2019          2009      R     88 min   \n",
              "8805    January 11, 2020          2006     PG     88 min   \n",
              "8806       March 2, 2019          2015  TV-14    111 min   \n",
              "\n",
              "                                              listed_in  \\\n",
              "0                                         Documentaries   \n",
              "1       International TV Shows, TV Dramas, TV Mysteries   \n",
              "2     Crime TV Shows, International TV Shows, TV Act...   \n",
              "3                                Docuseries, Reality TV   \n",
              "4     International TV Shows, Romantic TV Shows, TV ...   \n",
              "...                                                 ...   \n",
              "8802                     Cult Movies, Dramas, Thrillers   \n",
              "8803             Kids' TV, Korean TV Shows, TV Comedies   \n",
              "8804                            Comedies, Horror Movies   \n",
              "8805                 Children & Family Movies, Comedies   \n",
              "8806     Dramas, International Movies, Music & Musicals   \n",
              "\n",
              "                                            description  \n",
              "0     As her father nears the end of his life, filmm...  \n",
              "1     After crossing paths at a party, a Cape Town t...  \n",
              "2     To protect his family from a powerful drug lor...  \n",
              "3     Feuds, flirtations and toilet talk go down amo...  \n",
              "4     In a city of coaching centers known to train I...  \n",
              "...                                                 ...  \n",
              "8802  A political cartoonist, a crime reporter and a...  \n",
              "8803  While living alone in a spooky town, a young g...  \n",
              "8804  Looking to survive in a world taken over by zo...  \n",
              "8805  Dragged from civilian life, a former superhero...  \n",
              "8806  A scrappy but poor boy worms his way into a ty...  \n",
              "\n",
              "[8807 rows x 12 columns]"
            ]
          },
          "execution_count": 64,
          "metadata": {},
          "output_type": "execute_result"
        }
      ],
      "source": [
        "#@title Data Loading\n",
        "url='https://drive.google.com/file/d/1IHDr6R9SBDV8VvCdFCDOfTCaEi2vAAzW/view?usp=share_link'\n",
        "url1='https://drive.google.com/uc?id=' + url.split('/')[-2]\n",
        "df = pd.read_csv(url1)\n",
        "df"
      ]
    },
    {
      "cell_type": "markdown",
      "metadata": {
        "id": "91G3S40zm7uK"
      },
      "source": [
        "# Data Cleaning and Exploration"
      ]
    },
    {
      "cell_type": "code",
      "execution_count": 65,
      "metadata": {
        "id": "xQWhzBtSlime"
      },
      "outputs": [],
      "source": [
        "df['listed_in'] = df['listed_in'].astype(str).str.split(',')\n",
        "df_temp = pd.DataFrame(df['listed_in'].tolist(), columns=['genre_' + str(i) for i in range(1, df['listed_in'].apply(len).max()+1)])\n",
        "df = pd.concat([df, df_temp], axis=1)"
      ]
    },
    {
      "cell_type": "code",
      "execution_count": 66,
      "metadata": {
        "colab": {
          "base_uri": "https://localhost:8080/",
          "height": 519
        },
        "id": "3cRrIMrJtoIM",
        "outputId": "38c7c9c0-d62a-4d82-bc01-dc897b02ca3d"
      },
      "outputs": [
        {
          "data": {
            "text/html": [
              "<div>\n",
              "<style scoped>\n",
              "    .dataframe tbody tr th:only-of-type {\n",
              "        vertical-align: middle;\n",
              "    }\n",
              "\n",
              "    .dataframe tbody tr th {\n",
              "        vertical-align: top;\n",
              "    }\n",
              "\n",
              "    .dataframe thead th {\n",
              "        text-align: right;\n",
              "    }\n",
              "</style>\n",
              "<table border=\"1\" class=\"dataframe\">\n",
              "  <thead>\n",
              "    <tr style=\"text-align: right;\">\n",
              "      <th></th>\n",
              "      <th>column_name</th>\n",
              "      <th>missing_percentage</th>\n",
              "    </tr>\n",
              "  </thead>\n",
              "  <tbody>\n",
              "    <tr>\n",
              "      <th>0</th>\n",
              "      <td>genre_3</td>\n",
              "      <td>57.66</td>\n",
              "    </tr>\n",
              "    <tr>\n",
              "      <th>1</th>\n",
              "      <td>director</td>\n",
              "      <td>29.91</td>\n",
              "    </tr>\n",
              "    <tr>\n",
              "      <th>2</th>\n",
              "      <td>genre_2</td>\n",
              "      <td>22.94</td>\n",
              "    </tr>\n",
              "    <tr>\n",
              "      <th>3</th>\n",
              "      <td>country</td>\n",
              "      <td>9.44</td>\n",
              "    </tr>\n",
              "    <tr>\n",
              "      <th>4</th>\n",
              "      <td>cast</td>\n",
              "      <td>9.37</td>\n",
              "    </tr>\n",
              "    <tr>\n",
              "      <th>5</th>\n",
              "      <td>date_added</td>\n",
              "      <td>0.11</td>\n",
              "    </tr>\n",
              "    <tr>\n",
              "      <th>6</th>\n",
              "      <td>rating</td>\n",
              "      <td>0.05</td>\n",
              "    </tr>\n",
              "    <tr>\n",
              "      <th>7</th>\n",
              "      <td>duration</td>\n",
              "      <td>0.03</td>\n",
              "    </tr>\n",
              "    <tr>\n",
              "      <th>8</th>\n",
              "      <td>show_id</td>\n",
              "      <td>0.00</td>\n",
              "    </tr>\n",
              "    <tr>\n",
              "      <th>9</th>\n",
              "      <td>type</td>\n",
              "      <td>0.00</td>\n",
              "    </tr>\n",
              "    <tr>\n",
              "      <th>10</th>\n",
              "      <td>title</td>\n",
              "      <td>0.00</td>\n",
              "    </tr>\n",
              "    <tr>\n",
              "      <th>11</th>\n",
              "      <td>release_year</td>\n",
              "      <td>0.00</td>\n",
              "    </tr>\n",
              "    <tr>\n",
              "      <th>12</th>\n",
              "      <td>listed_in</td>\n",
              "      <td>0.00</td>\n",
              "    </tr>\n",
              "    <tr>\n",
              "      <th>13</th>\n",
              "      <td>description</td>\n",
              "      <td>0.00</td>\n",
              "    </tr>\n",
              "    <tr>\n",
              "      <th>14</th>\n",
              "      <td>genre_1</td>\n",
              "      <td>0.00</td>\n",
              "    </tr>\n",
              "  </tbody>\n",
              "</table>\n",
              "</div>"
            ],
            "text/plain": [
              "     column_name  missing_percentage\n",
              "0        genre_3               57.66\n",
              "1       director               29.91\n",
              "2        genre_2               22.94\n",
              "3        country                9.44\n",
              "4           cast                9.37\n",
              "5     date_added                0.11\n",
              "6         rating                0.05\n",
              "7       duration                0.03\n",
              "8        show_id                0.00\n",
              "9           type                0.00\n",
              "10         title                0.00\n",
              "11  release_year                0.00\n",
              "12     listed_in                0.00\n",
              "13   description                0.00\n",
              "14       genre_1                0.00"
            ]
          },
          "execution_count": 66,
          "metadata": {},
          "output_type": "execute_result"
        }
      ],
      "source": [
        "columns_tobe_deleted = missing_values_percentage(df)\n",
        "columns_tobe_deleted "
      ]
    },
    {
      "cell_type": "code",
      "execution_count": 67,
      "metadata": {
        "colab": {
          "base_uri": "https://localhost:8080/",
          "height": 143
        },
        "id": "j6HrzxzOttWO",
        "outputId": "bd78fa83-e921-4e24-eb27-6c03ead0d1c0"
      },
      "outputs": [
        {
          "data": {
            "text/html": [
              "<div>\n",
              "<style scoped>\n",
              "    .dataframe tbody tr th:only-of-type {\n",
              "        vertical-align: middle;\n",
              "    }\n",
              "\n",
              "    .dataframe tbody tr th {\n",
              "        vertical-align: top;\n",
              "    }\n",
              "\n",
              "    .dataframe thead th {\n",
              "        text-align: right;\n",
              "    }\n",
              "</style>\n",
              "<table border=\"1\" class=\"dataframe\">\n",
              "  <thead>\n",
              "    <tr style=\"text-align: right;\">\n",
              "      <th></th>\n",
              "      <th>column_name</th>\n",
              "      <th>missing_percentage</th>\n",
              "    </tr>\n",
              "  </thead>\n",
              "  <tbody>\n",
              "    <tr>\n",
              "      <th>0</th>\n",
              "      <td>genre_3</td>\n",
              "      <td>57.66</td>\n",
              "    </tr>\n",
              "    <tr>\n",
              "      <th>1</th>\n",
              "      <td>director</td>\n",
              "      <td>29.91</td>\n",
              "    </tr>\n",
              "    <tr>\n",
              "      <th>2</th>\n",
              "      <td>genre_2</td>\n",
              "      <td>22.94</td>\n",
              "    </tr>\n",
              "  </tbody>\n",
              "</table>\n",
              "</div>"
            ],
            "text/plain": [
              "  column_name  missing_percentage\n",
              "0     genre_3               57.66\n",
              "1    director               29.91\n",
              "2     genre_2               22.94"
            ]
          },
          "execution_count": 67,
          "metadata": {},
          "output_type": "execute_result"
        }
      ],
      "source": [
        "df_missing_values = columns_tobe_deleted [columns_tobe_deleted ['missing_percentage'] > 20.0]\n",
        "df_missing_values"
      ]
    },
    {
      "cell_type": "code",
      "execution_count": 68,
      "metadata": {
        "id": "3Re7Xz5qtyY8"
      },
      "outputs": [],
      "source": [
        "column_list = df_missing_values['column_name'].to_numpy()\n",
        "for i in column_list:\n",
        "  df = df.drop([i], axis=1)"
      ]
    },
    {
      "cell_type": "code",
      "execution_count": 69,
      "metadata": {
        "colab": {
          "base_uri": "https://localhost:8080/"
        },
        "id": "ORvFtBE3t2q-",
        "outputId": "5e54fc5b-306b-4893-cc0f-c70c3a326864"
      },
      "outputs": [
        {
          "data": {
            "text/plain": [
              "(8807, 12)"
            ]
          },
          "execution_count": 69,
          "metadata": {},
          "output_type": "execute_result"
        }
      ],
      "source": [
        "df.shape"
      ]
    },
    {
      "cell_type": "code",
      "execution_count": 70,
      "metadata": {
        "id": "1vvfDNIvt9JH"
      },
      "outputs": [],
      "source": [
        "df = df.applymap(lambda x: x.upper() if type(x) == str else x)"
      ]
    },
    {
      "cell_type": "code",
      "execution_count": 71,
      "metadata": {
        "colab": {
          "base_uri": "https://localhost:8080/",
          "height": 423
        },
        "id": "0O5f5NiYuBVC",
        "outputId": "1496f286-794b-4373-9213-611ee5d27bb1"
      },
      "outputs": [
        {
          "data": {
            "text/html": [
              "<div>\n",
              "<style scoped>\n",
              "    .dataframe tbody tr th:only-of-type {\n",
              "        vertical-align: middle;\n",
              "    }\n",
              "\n",
              "    .dataframe tbody tr th {\n",
              "        vertical-align: top;\n",
              "    }\n",
              "\n",
              "    .dataframe thead th {\n",
              "        text-align: right;\n",
              "    }\n",
              "</style>\n",
              "<table border=\"1\" class=\"dataframe\">\n",
              "  <thead>\n",
              "    <tr style=\"text-align: right;\">\n",
              "      <th></th>\n",
              "      <th>show_id</th>\n",
              "      <th>type</th>\n",
              "      <th>title</th>\n",
              "      <th>cast</th>\n",
              "      <th>country</th>\n",
              "      <th>date_added</th>\n",
              "      <th>release_year</th>\n",
              "      <th>rating</th>\n",
              "      <th>duration</th>\n",
              "      <th>listed_in</th>\n",
              "      <th>description</th>\n",
              "      <th>genre_1</th>\n",
              "    </tr>\n",
              "  </thead>\n",
              "  <tbody>\n",
              "    <tr>\n",
              "      <th>0</th>\n",
              "      <td>S1</td>\n",
              "      <td>MOVIE</td>\n",
              "      <td>DICK JOHNSON IS DEAD</td>\n",
              "      <td>NaN</td>\n",
              "      <td>UNITED STATES</td>\n",
              "      <td>SEPTEMBER 25, 2021</td>\n",
              "      <td>2020</td>\n",
              "      <td>PG-13</td>\n",
              "      <td>90 MIN</td>\n",
              "      <td>[Documentaries]</td>\n",
              "      <td>AS HER FATHER NEARS THE END OF HIS LIFE, FILMM...</td>\n",
              "      <td>DOCUMENTARIES</td>\n",
              "    </tr>\n",
              "    <tr>\n",
              "      <th>1</th>\n",
              "      <td>S2</td>\n",
              "      <td>TV SHOW</td>\n",
              "      <td>BLOOD &amp; WATER</td>\n",
              "      <td>AMA QAMATA, KHOSI NGEMA, GAIL MABALANE, THABAN...</td>\n",
              "      <td>SOUTH AFRICA</td>\n",
              "      <td>SEPTEMBER 24, 2021</td>\n",
              "      <td>2021</td>\n",
              "      <td>TV-MA</td>\n",
              "      <td>2 SEASONS</td>\n",
              "      <td>[International TV Shows,  TV Dramas,  TV Myste...</td>\n",
              "      <td>AFTER CROSSING PATHS AT A PARTY, A CAPE TOWN T...</td>\n",
              "      <td>INTERNATIONAL TV SHOWS</td>\n",
              "    </tr>\n",
              "    <tr>\n",
              "      <th>2</th>\n",
              "      <td>S3</td>\n",
              "      <td>TV SHOW</td>\n",
              "      <td>GANGLANDS</td>\n",
              "      <td>SAMI BOUAJILA, TRACY GOTOAS, SAMUEL JOUY, NABI...</td>\n",
              "      <td>NaN</td>\n",
              "      <td>SEPTEMBER 24, 2021</td>\n",
              "      <td>2021</td>\n",
              "      <td>TV-MA</td>\n",
              "      <td>1 SEASON</td>\n",
              "      <td>[Crime TV Shows,  International TV Shows,  TV ...</td>\n",
              "      <td>TO PROTECT HIS FAMILY FROM A POWERFUL DRUG LOR...</td>\n",
              "      <td>CRIME TV SHOWS</td>\n",
              "    </tr>\n",
              "    <tr>\n",
              "      <th>3</th>\n",
              "      <td>S4</td>\n",
              "      <td>TV SHOW</td>\n",
              "      <td>JAILBIRDS NEW ORLEANS</td>\n",
              "      <td>NaN</td>\n",
              "      <td>NaN</td>\n",
              "      <td>SEPTEMBER 24, 2021</td>\n",
              "      <td>2021</td>\n",
              "      <td>TV-MA</td>\n",
              "      <td>1 SEASON</td>\n",
              "      <td>[Docuseries,  Reality TV]</td>\n",
              "      <td>FEUDS, FLIRTATIONS AND TOILET TALK GO DOWN AMO...</td>\n",
              "      <td>DOCUSERIES</td>\n",
              "    </tr>\n",
              "    <tr>\n",
              "      <th>4</th>\n",
              "      <td>S5</td>\n",
              "      <td>TV SHOW</td>\n",
              "      <td>KOTA FACTORY</td>\n",
              "      <td>MAYUR MORE, JITENDRA KUMAR, RANJAN RAJ, ALAM K...</td>\n",
              "      <td>INDIA</td>\n",
              "      <td>SEPTEMBER 24, 2021</td>\n",
              "      <td>2021</td>\n",
              "      <td>TV-MA</td>\n",
              "      <td>2 SEASONS</td>\n",
              "      <td>[International TV Shows,  Romantic TV Shows,  ...</td>\n",
              "      <td>IN A CITY OF COACHING CENTERS KNOWN TO TRAIN I...</td>\n",
              "      <td>INTERNATIONAL TV SHOWS</td>\n",
              "    </tr>\n",
              "  </tbody>\n",
              "</table>\n",
              "</div>"
            ],
            "text/plain": [
              "  show_id     type                  title  \\\n",
              "0      S1    MOVIE   DICK JOHNSON IS DEAD   \n",
              "1      S2  TV SHOW          BLOOD & WATER   \n",
              "2      S3  TV SHOW              GANGLANDS   \n",
              "3      S4  TV SHOW  JAILBIRDS NEW ORLEANS   \n",
              "4      S5  TV SHOW           KOTA FACTORY   \n",
              "\n",
              "                                                cast        country  \\\n",
              "0                                                NaN  UNITED STATES   \n",
              "1  AMA QAMATA, KHOSI NGEMA, GAIL MABALANE, THABAN...   SOUTH AFRICA   \n",
              "2  SAMI BOUAJILA, TRACY GOTOAS, SAMUEL JOUY, NABI...            NaN   \n",
              "3                                                NaN            NaN   \n",
              "4  MAYUR MORE, JITENDRA KUMAR, RANJAN RAJ, ALAM K...          INDIA   \n",
              "\n",
              "           date_added  release_year rating   duration  \\\n",
              "0  SEPTEMBER 25, 2021          2020  PG-13     90 MIN   \n",
              "1  SEPTEMBER 24, 2021          2021  TV-MA  2 SEASONS   \n",
              "2  SEPTEMBER 24, 2021          2021  TV-MA   1 SEASON   \n",
              "3  SEPTEMBER 24, 2021          2021  TV-MA   1 SEASON   \n",
              "4  SEPTEMBER 24, 2021          2021  TV-MA  2 SEASONS   \n",
              "\n",
              "                                           listed_in  \\\n",
              "0                                    [Documentaries]   \n",
              "1  [International TV Shows,  TV Dramas,  TV Myste...   \n",
              "2  [Crime TV Shows,  International TV Shows,  TV ...   \n",
              "3                          [Docuseries,  Reality TV]   \n",
              "4  [International TV Shows,  Romantic TV Shows,  ...   \n",
              "\n",
              "                                         description                 genre_1  \n",
              "0  AS HER FATHER NEARS THE END OF HIS LIFE, FILMM...           DOCUMENTARIES  \n",
              "1  AFTER CROSSING PATHS AT A PARTY, A CAPE TOWN T...  INTERNATIONAL TV SHOWS  \n",
              "2  TO PROTECT HIS FAMILY FROM A POWERFUL DRUG LOR...          CRIME TV SHOWS  \n",
              "3  FEUDS, FLIRTATIONS AND TOILET TALK GO DOWN AMO...              DOCUSERIES  \n",
              "4  IN A CITY OF COACHING CENTERS KNOWN TO TRAIN I...  INTERNATIONAL TV SHOWS  "
            ]
          },
          "execution_count": 71,
          "metadata": {},
          "output_type": "execute_result"
        }
      ],
      "source": [
        "df.head()"
      ]
    },
    {
      "cell_type": "code",
      "execution_count": 72,
      "metadata": {
        "colab": {
          "base_uri": "https://localhost:8080/",
          "height": 659
        },
        "id": "keOsjdVduOl6",
        "outputId": "83328231-42c6-47b9-9ef9-e6ce66dc1420"
      },
      "outputs": [
        {
          "data": {
            "image/png": "[encoded data removed]",
            "text/plain": [
              "<Figure size 2500x800 with 1 Axes>"
            ]
          },
          "metadata": {},
          "output_type": "display_data"
        }
      ],
      "source": [
        "value_counts = df['genre_1'].value_counts()\n",
        "plt.figure(figsize=(25, 8))\n",
        "value_counts.plot(kind='bar')\n",
        "plt.title('Genre wise count of records')\n",
        "plt.xlabel('Genre')\n",
        "plt.ylabel('Count')\n",
        "for i, v in enumerate(value_counts):\n",
        "    plt.text(i - 0.1, v + 100, str(v))\n",
        "plt.show()"
      ]
    },
    {
      "cell_type": "code",
      "execution_count": 73,
      "metadata": {
        "colab": {
          "base_uri": "https://localhost:8080/"
        },
        "id": "d5lmy0grD2IP",
        "outputId": "6b84bea7-67d9-4bbb-dde2-17ce471ecbee"
      },
      "outputs": [
        {
          "data": {
            "text/plain": [
              "36"
            ]
          },
          "execution_count": 73,
          "metadata": {},
          "output_type": "execute_result"
        }
      ],
      "source": [
        "df['genre_1'].nunique()"
      ]
    },
    {
      "cell_type": "code",
      "execution_count": 74,
      "metadata": {
        "id": "JmIHduaOCc6I"
      },
      "outputs": [],
      "source": [
        "get_new_genre = lambda val: 'HORROR & THRILLERS' if val in ['HORROR MOVIES', 'CRIME TV SHOWS', 'THRILLERS', 'ROMANTIC MOVIES', 'TV HORROR'] else \\\n",
        "                            'COMEDY' if val in ['COMEDIES','STAND-UP COMEDY','TV COMEDIES','STAND-UP COMEDY & TALK SHOWS'] else \\\n",
        "                            'DRAMAS' if val in ['DRAMAS', 'TV DRAMAS', 'ROMANTIC TV SHOWS', 'ROMANTIC MOVIES'] else \\\n",
        "                            'ACTION & ADVENTURE' if val in ['TV ACTION & ADVENTURE', 'ACTION & ADVENTURE', 'TV SCI-FI & FANTASY', 'SCI-FI & FANTASY', 'SPORTS MOVIES', 'CLASSIC MOVIES', 'CULT MOVIES', 'CLASSIC & CULT TV', 'REALITY TV', 'LGBTQ MOVIES'] else \\\n",
        "                            'ANIME' if val in ['ANIME SERIES', 'ANIME FEATURES', \"KIDS' TV\", 'MOVIES', 'INDEPENDENT MOVIES', 'TV SHOWS'] else \\\n",
        "                            'DOCUMENTARIES' if val in ['DOCUMENTARIES','DOCUSERIES','SPANISH-LANGUAGE TV SHOWS','BRITISH TV SHOWS'] else \\\n",
        "                            'CHILDREN & FAMILY' if val in ['CHILDREN & FAMILY MOVIES','INTERNATIONAL TV SHOWS','MUSIC & MUSICALS','INTERNATIONAL MOVIES'] else \\\n",
        "                            'OTHER'"
      ]
    },
    {
      "cell_type": "code",
      "execution_count": 75,
      "metadata": {
        "id": "Fy2g8lsMEOsQ"
      },
      "outputs": [],
      "source": [
        "df['genre'] = df['genre_1'].apply(get_new_genre)"
      ]
    },
    {
      "cell_type": "code",
      "execution_count": 76,
      "metadata": {
        "colab": {
          "base_uri": "https://localhost:8080/"
        },
        "id": "6yRYas245NhW",
        "outputId": "9a537010-0a05-400f-c804-09cfd90b76c4"
      },
      "outputs": [
        {
          "data": {
            "text/plain": [
              "array(['DOCUMENTARIES', 'CHILDREN & FAMILY', 'HORROR & THRILLERS',\n",
              "       'DRAMAS', 'COMEDY', 'ANIME', 'ACTION & ADVENTURE'], dtype=object)"
            ]
          },
          "execution_count": 76,
          "metadata": {},
          "output_type": "execute_result"
        }
      ],
      "source": [
        "df['genre'].unique()"
      ]
    },
    {
      "cell_type": "code",
      "execution_count": 77,
      "metadata": {
        "colab": {
          "base_uri": "https://localhost:8080/",
          "height": 599
        },
        "id": "oiUl_8o-BJrA",
        "outputId": "dfd1a62c-8ebc-4f37-8ab1-c217f45dabf5"
      },
      "outputs": [
        {
          "data": {
            "image/png": "[encoded data removed]",
            "text/plain": [
              "<Figure size 2500x800 with 1 Axes>"
            ]
          },
          "metadata": {},
          "output_type": "display_data"
        }
      ],
      "source": [
        "value_counts = df['genre'].value_counts()\n",
        "plt.figure(figsize=(25, 8))\n",
        "value_counts.plot(kind='bar')\n",
        "plt.title('Genre wise count of records')\n",
        "plt.xlabel('Genre')\n",
        "plt.ylabel('Count')\n",
        "for i, v in enumerate(value_counts):\n",
        "    plt.text(i - 0.1, v + 100, str(v))\n",
        "plt.show()"
      ]
    },
    {
      "cell_type": "code",
      "execution_count": 78,
      "metadata": {
        "id": "gkyG6sKYE1Ct"
      },
      "outputs": [],
      "source": [
        "df.rename({'genre_1': 'Category'}, axis=1, inplace=True)"
      ]
    },
    {
      "cell_type": "code",
      "execution_count": 79,
      "metadata": {
        "colab": {
          "base_uri": "https://localhost:8080/",
          "height": 510
        },
        "id": "4b4IpYRTFHoV",
        "outputId": "a64ba343-b273-4856-821c-f0899a93617f"
      },
      "outputs": [
        {
          "data": {
            "text/html": [
              "<div>\n",
              "<style scoped>\n",
              "    .dataframe tbody tr th:only-of-type {\n",
              "        vertical-align: middle;\n",
              "    }\n",
              "\n",
              "    .dataframe tbody tr th {\n",
              "        vertical-align: top;\n",
              "    }\n",
              "\n",
              "    .dataframe thead th {\n",
              "        text-align: right;\n",
              "    }\n",
              "</style>\n",
              "<table border=\"1\" class=\"dataframe\">\n",
              "  <thead>\n",
              "    <tr style=\"text-align: right;\">\n",
              "      <th></th>\n",
              "      <th>show_id</th>\n",
              "      <th>type</th>\n",
              "      <th>title</th>\n",
              "      <th>cast</th>\n",
              "      <th>country</th>\n",
              "      <th>date_added</th>\n",
              "      <th>release_year</th>\n",
              "      <th>rating</th>\n",
              "      <th>duration</th>\n",
              "      <th>listed_in</th>\n",
              "      <th>description</th>\n",
              "      <th>Category</th>\n",
              "      <th>genre</th>\n",
              "    </tr>\n",
              "  </thead>\n",
              "  <tbody>\n",
              "    <tr>\n",
              "      <th>0</th>\n",
              "      <td>S1</td>\n",
              "      <td>MOVIE</td>\n",
              "      <td>DICK JOHNSON IS DEAD</td>\n",
              "      <td>NaN</td>\n",
              "      <td>UNITED STATES</td>\n",
              "      <td>SEPTEMBER 25, 2021</td>\n",
              "      <td>2020</td>\n",
              "      <td>PG-13</td>\n",
              "      <td>90 MIN</td>\n",
              "      <td>[Documentaries]</td>\n",
              "      <td>AS HER FATHER NEARS THE END OF HIS LIFE, FILMM...</td>\n",
              "      <td>DOCUMENTARIES</td>\n",
              "      <td>DOCUMENTARIES</td>\n",
              "    </tr>\n",
              "    <tr>\n",
              "      <th>1</th>\n",
              "      <td>S2</td>\n",
              "      <td>TV SHOW</td>\n",
              "      <td>BLOOD &amp; WATER</td>\n",
              "      <td>AMA QAMATA, KHOSI NGEMA, GAIL MABALANE, THABAN...</td>\n",
              "      <td>SOUTH AFRICA</td>\n",
              "      <td>SEPTEMBER 24, 2021</td>\n",
              "      <td>2021</td>\n",
              "      <td>TV-MA</td>\n",
              "      <td>2 SEASONS</td>\n",
              "      <td>[International TV Shows,  TV Dramas,  TV Myste...</td>\n",
              "      <td>AFTER CROSSING PATHS AT A PARTY, A CAPE TOWN T...</td>\n",
              "      <td>INTERNATIONAL TV SHOWS</td>\n",
              "      <td>CHILDREN &amp; FAMILY</td>\n",
              "    </tr>\n",
              "    <tr>\n",
              "      <th>2</th>\n",
              "      <td>S3</td>\n",
              "      <td>TV SHOW</td>\n",
              "      <td>GANGLANDS</td>\n",
              "      <td>SAMI BOUAJILA, TRACY GOTOAS, SAMUEL JOUY, NABI...</td>\n",
              "      <td>NaN</td>\n",
              "      <td>SEPTEMBER 24, 2021</td>\n",
              "      <td>2021</td>\n",
              "      <td>TV-MA</td>\n",
              "      <td>1 SEASON</td>\n",
              "      <td>[Crime TV Shows,  International TV Shows,  TV ...</td>\n",
              "      <td>TO PROTECT HIS FAMILY FROM A POWERFUL DRUG LOR...</td>\n",
              "      <td>CRIME TV SHOWS</td>\n",
              "      <td>HORROR &amp; THRILLERS</td>\n",
              "    </tr>\n",
              "    <tr>\n",
              "      <th>3</th>\n",
              "      <td>S4</td>\n",
              "      <td>TV SHOW</td>\n",
              "      <td>JAILBIRDS NEW ORLEANS</td>\n",
              "      <td>NaN</td>\n",
              "      <td>NaN</td>\n",
              "      <td>SEPTEMBER 24, 2021</td>\n",
              "      <td>2021</td>\n",
              "      <td>TV-MA</td>\n",
              "      <td>1 SEASON</td>\n",
              "      <td>[Docuseries,  Reality TV]</td>\n",
              "      <td>FEUDS, FLIRTATIONS AND TOILET TALK GO DOWN AMO...</td>\n",
              "      <td>DOCUSERIES</td>\n",
              "      <td>DOCUMENTARIES</td>\n",
              "    </tr>\n",
              "    <tr>\n",
              "      <th>4</th>\n",
              "      <td>S5</td>\n",
              "      <td>TV SHOW</td>\n",
              "      <td>KOTA FACTORY</td>\n",
              "      <td>MAYUR MORE, JITENDRA KUMAR, RANJAN RAJ, ALAM K...</td>\n",
              "      <td>INDIA</td>\n",
              "      <td>SEPTEMBER 24, 2021</td>\n",
              "      <td>2021</td>\n",
              "      <td>TV-MA</td>\n",
              "      <td>2 SEASONS</td>\n",
              "      <td>[International TV Shows,  Romantic TV Shows,  ...</td>\n",
              "      <td>IN A CITY OF COACHING CENTERS KNOWN TO TRAIN I...</td>\n",
              "      <td>INTERNATIONAL TV SHOWS</td>\n",
              "      <td>CHILDREN &amp; FAMILY</td>\n",
              "    </tr>\n",
              "  </tbody>\n",
              "</table>\n",
              "</div>"
            ],
            "text/plain": [
              "  show_id     type                  title  \\\n",
              "0      S1    MOVIE   DICK JOHNSON IS DEAD   \n",
              "1      S2  TV SHOW          BLOOD & WATER   \n",
              "2      S3  TV SHOW              GANGLANDS   \n",
              "3      S4  TV SHOW  JAILBIRDS NEW ORLEANS   \n",
              "4      S5  TV SHOW           KOTA FACTORY   \n",
              "\n",
              "                                                cast        country  \\\n",
              "0                                                NaN  UNITED STATES   \n",
              "1  AMA QAMATA, KHOSI NGEMA, GAIL MABALANE, THABAN...   SOUTH AFRICA   \n",
              "2  SAMI BOUAJILA, TRACY GOTOAS, SAMUEL JOUY, NABI...            NaN   \n",
              "3                                                NaN            NaN   \n",
              "4  MAYUR MORE, JITENDRA KUMAR, RANJAN RAJ, ALAM K...          INDIA   \n",
              "\n",
              "           date_added  release_year rating   duration  \\\n",
              "0  SEPTEMBER 25, 2021          2020  PG-13     90 MIN   \n",
              "1  SEPTEMBER 24, 2021          2021  TV-MA  2 SEASONS   \n",
              "2  SEPTEMBER 24, 2021          2021  TV-MA   1 SEASON   \n",
              "3  SEPTEMBER 24, 2021          2021  TV-MA   1 SEASON   \n",
              "4  SEPTEMBER 24, 2021          2021  TV-MA  2 SEASONS   \n",
              "\n",
              "                                           listed_in  \\\n",
              "0                                    [Documentaries]   \n",
              "1  [International TV Shows,  TV Dramas,  TV Myste...   \n",
              "2  [Crime TV Shows,  International TV Shows,  TV ...   \n",
              "3                          [Docuseries,  Reality TV]   \n",
              "4  [International TV Shows,  Romantic TV Shows,  ...   \n",
              "\n",
              "                                         description                Category  \\\n",
              "0  AS HER FATHER NEARS THE END OF HIS LIFE, FILMM...           DOCUMENTARIES   \n",
              "1  AFTER CROSSING PATHS AT A PARTY, A CAPE TOWN T...  INTERNATIONAL TV SHOWS   \n",
              "2  TO PROTECT HIS FAMILY FROM A POWERFUL DRUG LOR...          CRIME TV SHOWS   \n",
              "3  FEUDS, FLIRTATIONS AND TOILET TALK GO DOWN AMO...              DOCUSERIES   \n",
              "4  IN A CITY OF COACHING CENTERS KNOWN TO TRAIN I...  INTERNATIONAL TV SHOWS   \n",
              "\n",
              "                genre  \n",
              "0       DOCUMENTARIES  \n",
              "1   CHILDREN & FAMILY  \n",
              "2  HORROR & THRILLERS  \n",
              "3       DOCUMENTARIES  \n",
              "4   CHILDREN & FAMILY  "
            ]
          },
          "execution_count": 79,
          "metadata": {},
          "output_type": "execute_result"
        }
      ],
      "source": [
        "df.head()"
      ]
    },
    {
      "cell_type": "code",
      "execution_count": 80,
      "metadata": {
        "id": "qwlkoJ_HF0tr"
      },
      "outputs": [],
      "source": [
        "get_age = lambda val: '18+' if val in ['HORROR & THRILLERS'] else \\\n",
        "                            '7+' if val in ['COMEDY'] else \\\n",
        "                            '16+' if val in ['DRAMAS'] else \\\n",
        "                            '16+' if val in ['ACTION & ADVENTURE'] else \\\n",
        "                            '7+' if val in ['ANIME'] else \\\n",
        "                            '13+' if val in ['DOCUMENTARIES'] else \\\n",
        "                            '7+' if val in ['CHILDREN & FAMILY'] else \\\n",
        "                            'OTHER'"
      ]
    },
    {
      "cell_type": "code",
      "execution_count": 81,
      "metadata": {
        "id": "cQQMgUmNGgw_"
      },
      "outputs": [],
      "source": [
        "df['age'] = df['genre'].apply(get_age)"
      ]
    },
    {
      "cell_type": "code",
      "execution_count": 82,
      "metadata": {
        "colab": {
          "base_uri": "https://localhost:8080/",
          "height": 562
        },
        "id": "9HwJzZJMGnKT",
        "outputId": "477dcc5a-81c6-40f9-e8d3-968ca1ab0266"
      },
      "outputs": [
        {
          "data": {
            "text/html": [
              "<div>\n",
              "<style scoped>\n",
              "    .dataframe tbody tr th:only-of-type {\n",
              "        vertical-align: middle;\n",
              "    }\n",
              "\n",
              "    .dataframe tbody tr th {\n",
              "        vertical-align: top;\n",
              "    }\n",
              "\n",
              "    .dataframe thead th {\n",
              "        text-align: right;\n",
              "    }\n",
              "</style>\n",
              "<table border=\"1\" class=\"dataframe\">\n",
              "  <thead>\n",
              "    <tr style=\"text-align: right;\">\n",
              "      <th></th>\n",
              "      <th>show_id</th>\n",
              "      <th>type</th>\n",
              "      <th>title</th>\n",
              "      <th>cast</th>\n",
              "      <th>country</th>\n",
              "      <th>date_added</th>\n",
              "      <th>release_year</th>\n",
              "      <th>rating</th>\n",
              "      <th>duration</th>\n",
              "      <th>listed_in</th>\n",
              "      <th>description</th>\n",
              "      <th>Category</th>\n",
              "      <th>genre</th>\n",
              "      <th>age</th>\n",
              "    </tr>\n",
              "  </thead>\n",
              "  <tbody>\n",
              "    <tr>\n",
              "      <th>0</th>\n",
              "      <td>S1</td>\n",
              "      <td>MOVIE</td>\n",
              "      <td>DICK JOHNSON IS DEAD</td>\n",
              "      <td>NaN</td>\n",
              "      <td>UNITED STATES</td>\n",
              "      <td>SEPTEMBER 25, 2021</td>\n",
              "      <td>2020</td>\n",
              "      <td>PG-13</td>\n",
              "      <td>90 MIN</td>\n",
              "      <td>[Documentaries]</td>\n",
              "      <td>AS HER FATHER NEARS THE END OF HIS LIFE, FILMM...</td>\n",
              "      <td>DOCUMENTARIES</td>\n",
              "      <td>DOCUMENTARIES</td>\n",
              "      <td>13+</td>\n",
              "    </tr>\n",
              "    <tr>\n",
              "      <th>1</th>\n",
              "      <td>S2</td>\n",
              "      <td>TV SHOW</td>\n",
              "      <td>BLOOD &amp; WATER</td>\n",
              "      <td>AMA QAMATA, KHOSI NGEMA, GAIL MABALANE, THABAN...</td>\n",
              "      <td>SOUTH AFRICA</td>\n",
              "      <td>SEPTEMBER 24, 2021</td>\n",
              "      <td>2021</td>\n",
              "      <td>TV-MA</td>\n",
              "      <td>2 SEASONS</td>\n",
              "      <td>[International TV Shows,  TV Dramas,  TV Myste...</td>\n",
              "      <td>AFTER CROSSING PATHS AT A PARTY, A CAPE TOWN T...</td>\n",
              "      <td>INTERNATIONAL TV SHOWS</td>\n",
              "      <td>CHILDREN &amp; FAMILY</td>\n",
              "      <td>7+</td>\n",
              "    </tr>\n",
              "    <tr>\n",
              "      <th>2</th>\n",
              "      <td>S3</td>\n",
              "      <td>TV SHOW</td>\n",
              "      <td>GANGLANDS</td>\n",
              "      <td>SAMI BOUAJILA, TRACY GOTOAS, SAMUEL JOUY, NABI...</td>\n",
              "      <td>NaN</td>\n",
              "      <td>SEPTEMBER 24, 2021</td>\n",
              "      <td>2021</td>\n",
              "      <td>TV-MA</td>\n",
              "      <td>1 SEASON</td>\n",
              "      <td>[Crime TV Shows,  International TV Shows,  TV ...</td>\n",
              "      <td>TO PROTECT HIS FAMILY FROM A POWERFUL DRUG LOR...</td>\n",
              "      <td>CRIME TV SHOWS</td>\n",
              "      <td>HORROR &amp; THRILLERS</td>\n",
              "      <td>18+</td>\n",
              "    </tr>\n",
              "    <tr>\n",
              "      <th>3</th>\n",
              "      <td>S4</td>\n",
              "      <td>TV SHOW</td>\n",
              "      <td>JAILBIRDS NEW ORLEANS</td>\n",
              "      <td>NaN</td>\n",
              "      <td>NaN</td>\n",
              "      <td>SEPTEMBER 24, 2021</td>\n",
              "      <td>2021</td>\n",
              "      <td>TV-MA</td>\n",
              "      <td>1 SEASON</td>\n",
              "      <td>[Docuseries,  Reality TV]</td>\n",
              "      <td>FEUDS, FLIRTATIONS AND TOILET TALK GO DOWN AMO...</td>\n",
              "      <td>DOCUSERIES</td>\n",
              "      <td>DOCUMENTARIES</td>\n",
              "      <td>13+</td>\n",
              "    </tr>\n",
              "    <tr>\n",
              "      <th>4</th>\n",
              "      <td>S5</td>\n",
              "      <td>TV SHOW</td>\n",
              "      <td>KOTA FACTORY</td>\n",
              "      <td>MAYUR MORE, JITENDRA KUMAR, RANJAN RAJ, ALAM K...</td>\n",
              "      <td>INDIA</td>\n",
              "      <td>SEPTEMBER 24, 2021</td>\n",
              "      <td>2021</td>\n",
              "      <td>TV-MA</td>\n",
              "      <td>2 SEASONS</td>\n",
              "      <td>[International TV Shows,  Romantic TV Shows,  ...</td>\n",
              "      <td>IN A CITY OF COACHING CENTERS KNOWN TO TRAIN I...</td>\n",
              "      <td>INTERNATIONAL TV SHOWS</td>\n",
              "      <td>CHILDREN &amp; FAMILY</td>\n",
              "      <td>7+</td>\n",
              "    </tr>\n",
              "  </tbody>\n",
              "</table>\n",
              "</div>"
            ],
            "text/plain": [
              "  show_id     type                  title  \\\n",
              "0      S1    MOVIE   DICK JOHNSON IS DEAD   \n",
              "1      S2  TV SHOW          BLOOD & WATER   \n",
              "2      S3  TV SHOW              GANGLANDS   \n",
              "3      S4  TV SHOW  JAILBIRDS NEW ORLEANS   \n",
              "4      S5  TV SHOW           KOTA FACTORY   \n",
              "\n",
              "                                                cast        country  \\\n",
              "0                                                NaN  UNITED STATES   \n",
              "1  AMA QAMATA, KHOSI NGEMA, GAIL MABALANE, THABAN...   SOUTH AFRICA   \n",
              "2  SAMI BOUAJILA, TRACY GOTOAS, SAMUEL JOUY, NABI...            NaN   \n",
              "3                                                NaN            NaN   \n",
              "4  MAYUR MORE, JITENDRA KUMAR, RANJAN RAJ, ALAM K...          INDIA   \n",
              "\n",
              "           date_added  release_year rating   duration  \\\n",
              "0  SEPTEMBER 25, 2021          2020  PG-13     90 MIN   \n",
              "1  SEPTEMBER 24, 2021          2021  TV-MA  2 SEASONS   \n",
              "2  SEPTEMBER 24, 2021          2021  TV-MA   1 SEASON   \n",
              "3  SEPTEMBER 24, 2021          2021  TV-MA   1 SEASON   \n",
              "4  SEPTEMBER 24, 2021          2021  TV-MA  2 SEASONS   \n",
              "\n",
              "                                           listed_in  \\\n",
              "0                                    [Documentaries]   \n",
              "1  [International TV Shows,  TV Dramas,  TV Myste...   \n",
              "2  [Crime TV Shows,  International TV Shows,  TV ...   \n",
              "3                          [Docuseries,  Reality TV]   \n",
              "4  [International TV Shows,  Romantic TV Shows,  ...   \n",
              "\n",
              "                                         description                Category  \\\n",
              "0  AS HER FATHER NEARS THE END OF HIS LIFE, FILMM...           DOCUMENTARIES   \n",
              "1  AFTER CROSSING PATHS AT A PARTY, A CAPE TOWN T...  INTERNATIONAL TV SHOWS   \n",
              "2  TO PROTECT HIS FAMILY FROM A POWERFUL DRUG LOR...          CRIME TV SHOWS   \n",
              "3  FEUDS, FLIRTATIONS AND TOILET TALK GO DOWN AMO...              DOCUSERIES   \n",
              "4  IN A CITY OF COACHING CENTERS KNOWN TO TRAIN I...  INTERNATIONAL TV SHOWS   \n",
              "\n",
              "                genre  age  \n",
              "0       DOCUMENTARIES  13+  \n",
              "1   CHILDREN & FAMILY   7+  \n",
              "2  HORROR & THRILLERS  18+  \n",
              "3       DOCUMENTARIES  13+  \n",
              "4   CHILDREN & FAMILY   7+  "
            ]
          },
          "execution_count": 82,
          "metadata": {},
          "output_type": "execute_result"
        }
      ],
      "source": [
        "df.head()"
      ]
    },
    {
      "cell_type": "code",
      "execution_count": 83,
      "metadata": {
        "colab": {
          "base_uri": "https://localhost:8080/"
        },
        "id": "JIsCujDpHukw",
        "outputId": "3cb96e76-d6ac-4dd1-8407-098645b2247e"
      },
      "outputs": [
        {
          "data": {
            "text/plain": [
              "array(['90 MIN', '2 SEASONS', '1 SEASON', '91 MIN', '125 MIN',\n",
              "       '9 SEASONS', '104 MIN', '127 MIN', '4 SEASONS', '67 MIN', '94 MIN',\n",
              "       '5 SEASONS', '161 MIN', '61 MIN', '166 MIN', '147 MIN', '103 MIN',\n",
              "       '97 MIN', '106 MIN', '111 MIN', '3 SEASONS', '110 MIN', '105 MIN',\n",
              "       '96 MIN', '124 MIN', '116 MIN', '98 MIN', '23 MIN', '115 MIN',\n",
              "       '122 MIN', '99 MIN', '88 MIN', '100 MIN', '6 SEASONS', '102 MIN',\n",
              "       '93 MIN', '95 MIN', '85 MIN', '83 MIN', '113 MIN', '13 MIN',\n",
              "       '182 MIN', '48 MIN', '145 MIN', '87 MIN', '92 MIN', '80 MIN',\n",
              "       '117 MIN', '128 MIN', '119 MIN', '143 MIN', '114 MIN', '118 MIN',\n",
              "       '108 MIN', '63 MIN', '121 MIN', '142 MIN', '154 MIN', '120 MIN',\n",
              "       '82 MIN', '109 MIN', '101 MIN', '86 MIN', '229 MIN', '76 MIN',\n",
              "       '89 MIN', '156 MIN', '112 MIN', '107 MIN', '129 MIN', '135 MIN',\n",
              "       '136 MIN', '165 MIN', '150 MIN', '133 MIN', '70 MIN', '84 MIN',\n",
              "       '140 MIN', '78 MIN', '7 SEASONS', '64 MIN', '59 MIN', '139 MIN',\n",
              "       '69 MIN', '148 MIN', '189 MIN', '141 MIN', '130 MIN', '138 MIN',\n",
              "       '81 MIN', '132 MIN', '10 SEASONS', '123 MIN', '65 MIN', '68 MIN',\n",
              "       '66 MIN', '62 MIN', '74 MIN', '131 MIN', '39 MIN', '46 MIN',\n",
              "       '38 MIN', '8 SEASONS', '17 SEASONS', '126 MIN', '155 MIN',\n",
              "       '159 MIN', '137 MIN', '12 MIN', '273 MIN', '36 MIN', '34 MIN',\n",
              "       '77 MIN', '60 MIN', '49 MIN', '58 MIN', '72 MIN', '204 MIN',\n",
              "       '212 MIN', '25 MIN', '73 MIN', '29 MIN', '47 MIN', '32 MIN',\n",
              "       '35 MIN', '71 MIN', '149 MIN', '33 MIN', '15 MIN', '54 MIN',\n",
              "       '224 MIN', '162 MIN', '37 MIN', '75 MIN', '79 MIN', '55 MIN',\n",
              "       '158 MIN', '164 MIN', '173 MIN', '181 MIN', '185 MIN', '21 MIN',\n",
              "       '24 MIN', '51 MIN', '151 MIN', '42 MIN', '22 MIN', '134 MIN',\n",
              "       '177 MIN', '13 SEASONS', '52 MIN', '14 MIN', '53 MIN', '8 MIN',\n",
              "       '57 MIN', '28 MIN', '50 MIN', '9 MIN', '26 MIN', '45 MIN',\n",
              "       '171 MIN', '27 MIN', '44 MIN', '146 MIN', '20 MIN', '157 MIN',\n",
              "       '17 MIN', '203 MIN', '41 MIN', '30 MIN', '194 MIN', '15 SEASONS',\n",
              "       '233 MIN', '237 MIN', '230 MIN', '195 MIN', '253 MIN', '152 MIN',\n",
              "       '190 MIN', '160 MIN', '208 MIN', '180 MIN', '144 MIN', '5 MIN',\n",
              "       '174 MIN', '170 MIN', '192 MIN', '209 MIN', '187 MIN', '172 MIN',\n",
              "       '16 MIN', '186 MIN', '11 MIN', '193 MIN', '176 MIN', '56 MIN',\n",
              "       '169 MIN', '40 MIN', '10 MIN', '3 MIN', '168 MIN', '312 MIN',\n",
              "       '153 MIN', '214 MIN', '31 MIN', '163 MIN', '19 MIN', '12 SEASONS',\n",
              "       nan, '179 MIN', '11 SEASONS', '43 MIN', '200 MIN', '196 MIN',\n",
              "       '167 MIN', '178 MIN', '228 MIN', '18 MIN', '205 MIN', '201 MIN',\n",
              "       '191 MIN'], dtype=object)"
            ]
          },
          "execution_count": 83,
          "metadata": {},
          "output_type": "execute_result"
        }
      ],
      "source": [
        "df['duration'].unique()"
      ]
    },
    {
      "cell_type": "code",
      "execution_count": 84,
      "metadata": {
        "id": "GockiMyNGoOE"
      },
      "outputs": [],
      "source": [
        "get_duration = lambda val: '400 MIN' if val in ['1 SEASON'] else \\\n",
        "                            '800 MIN' if val in ['2 SEASONS'] else \\\n",
        "                            '1200 MIN' if val in ['3 SEASONS'] else \\\n",
        "                            '1600 MIN' if val in ['4 SEASONS'] else \\\n",
        "                            '2000 MIN' if val in ['5 SEASONS'] else \\\n",
        "                            '2400 MIN' if val in ['6 SEASONS'] else \\\n",
        "                            '2800 MIN' if val in ['7 SEASONS'] else \\\n",
        "                            '3200 MIN' if val in ['8 SEASONS'] else \\\n",
        "                            '3600 MIN' if val in ['10 SEASONS'] else \\\n",
        "                            '4000 MIN' if val in ['11 SEASONS'] else \\\n",
        "                            '4400 MIN' if val in ['12 SEASONS'] else \\\n",
        "                            '4800 MIN' if val in ['13 SEASONS'] else \\\n",
        "                            '5200 MIN' if val in ['14 SEASONS'] else \\\n",
        "                            '5600 MIN' if val in ['15 SEASONS'] else \\\n",
        "                            '6000 MIN' if val in ['16 SEASONS'] else \\\n",
        "                            '6400 MIN' if val in ['17 SEASONS'] else  val"
      ]
    },
    {
      "cell_type": "code",
      "execution_count": 85,
      "metadata": {
        "id": "yDjA7HJNJDaE"
      },
      "outputs": [],
      "source": [
        "df['duration_main'] = df['duration'].apply(get_duration)"
      ]
    },
    {
      "cell_type": "code",
      "execution_count": 86,
      "metadata": {
        "colab": {
          "base_uri": "https://localhost:8080/"
        },
        "id": "2BX88b_uJOU7",
        "outputId": "367c7362-6fd2-4f7e-8bf1-1fbe4bd78f37"
      },
      "outputs": [
        {
          "data": {
            "text/plain": [
              "array(['90 MIN', '800 MIN', '400 MIN', '91 MIN', '125 MIN', '9 SEASONS',\n",
              "       '104 MIN', '127 MIN', '1600 MIN', '67 MIN', '94 MIN', '2000 MIN',\n",
              "       '161 MIN', '61 MIN', '166 MIN', '147 MIN', '103 MIN', '97 MIN',\n",
              "       '106 MIN', '111 MIN', '1200 MIN', '110 MIN', '105 MIN', '96 MIN',\n",
              "       '124 MIN', '116 MIN', '98 MIN', '23 MIN', '115 MIN', '122 MIN',\n",
              "       '99 MIN', '88 MIN', '100 MIN', '2400 MIN', '102 MIN', '93 MIN',\n",
              "       '95 MIN', '85 MIN', '83 MIN', '113 MIN', '13 MIN', '182 MIN',\n",
              "       '48 MIN', '145 MIN', '87 MIN', '92 MIN', '80 MIN', '117 MIN',\n",
              "       '128 MIN', '119 MIN', '143 MIN', '114 MIN', '118 MIN', '108 MIN',\n",
              "       '63 MIN', '121 MIN', '142 MIN', '154 MIN', '120 MIN', '82 MIN',\n",
              "       '109 MIN', '101 MIN', '86 MIN', '229 MIN', '76 MIN', '89 MIN',\n",
              "       '156 MIN', '112 MIN', '107 MIN', '129 MIN', '135 MIN', '136 MIN',\n",
              "       '165 MIN', '150 MIN', '133 MIN', '70 MIN', '84 MIN', '140 MIN',\n",
              "       '78 MIN', '2800 MIN', '64 MIN', '59 MIN', '139 MIN', '69 MIN',\n",
              "       '148 MIN', '189 MIN', '141 MIN', '130 MIN', '138 MIN', '81 MIN',\n",
              "       '132 MIN', '3600 MIN', '123 MIN', '65 MIN', '68 MIN', '66 MIN',\n",
              "       '62 MIN', '74 MIN', '131 MIN', '39 MIN', '46 MIN', '38 MIN',\n",
              "       '3200 MIN', '6400 MIN', '126 MIN', '155 MIN', '159 MIN', '137 MIN',\n",
              "       '12 MIN', '273 MIN', '36 MIN', '34 MIN', '77 MIN', '60 MIN',\n",
              "       '49 MIN', '58 MIN', '72 MIN', '204 MIN', '212 MIN', '25 MIN',\n",
              "       '73 MIN', '29 MIN', '47 MIN', '32 MIN', '35 MIN', '71 MIN',\n",
              "       '149 MIN', '33 MIN', '15 MIN', '54 MIN', '224 MIN', '162 MIN',\n",
              "       '37 MIN', '75 MIN', '79 MIN', '55 MIN', '158 MIN', '164 MIN',\n",
              "       '173 MIN', '181 MIN', '185 MIN', '21 MIN', '24 MIN', '51 MIN',\n",
              "       '151 MIN', '42 MIN', '22 MIN', '134 MIN', '177 MIN', '4800 MIN',\n",
              "       '52 MIN', '14 MIN', '53 MIN', '8 MIN', '57 MIN', '28 MIN',\n",
              "       '50 MIN', '9 MIN', '26 MIN', '45 MIN', '171 MIN', '27 MIN',\n",
              "       '44 MIN', '146 MIN', '20 MIN', '157 MIN', '17 MIN', '203 MIN',\n",
              "       '41 MIN', '30 MIN', '194 MIN', '5600 MIN', '233 MIN', '237 MIN',\n",
              "       '230 MIN', '195 MIN', '253 MIN', '152 MIN', '190 MIN', '160 MIN',\n",
              "       '208 MIN', '180 MIN', '144 MIN', '5 MIN', '174 MIN', '170 MIN',\n",
              "       '192 MIN', '209 MIN', '187 MIN', '172 MIN', '16 MIN', '186 MIN',\n",
              "       '11 MIN', '193 MIN', '176 MIN', '56 MIN', '169 MIN', '40 MIN',\n",
              "       '10 MIN', '3 MIN', '168 MIN', '312 MIN', '153 MIN', '214 MIN',\n",
              "       '31 MIN', '163 MIN', '19 MIN', '4400 MIN', nan, '179 MIN',\n",
              "       '4000 MIN', '43 MIN', '200 MIN', '196 MIN', '167 MIN', '178 MIN',\n",
              "       '228 MIN', '18 MIN', '205 MIN', '201 MIN', '191 MIN'], dtype=object)"
            ]
          },
          "execution_count": 86,
          "metadata": {},
          "output_type": "execute_result"
        }
      ],
      "source": [
        "df['duration_main'].unique()"
      ]
    },
    {
      "cell_type": "code",
      "execution_count": 87,
      "metadata": {
        "id": "OB6hFr4QJQiR"
      },
      "outputs": [],
      "source": [
        "df[['duration_val', 'duration_unit']] = df['duration_main'].str.split(' ', expand=True)\n",
        "df['duration_in_mins'] = pd.to_numeric(df['duration_val'])"
      ]
    },
    {
      "cell_type": "code",
      "execution_count": 88,
      "metadata": {
        "id": "cKys5Z2-FIuH"
      },
      "outputs": [],
      "source": [
        "df = df[['title','Category','genre','rating','date_added','duration','type','duration_in_mins','age']]"
      ]
    },
    {
      "cell_type": "code",
      "execution_count": 89,
      "metadata": {
        "colab": {
          "base_uri": "https://localhost:8080/",
          "height": 206
        },
        "id": "3Bj5gUO8KYrA",
        "outputId": "fdc52862-5bf9-4897-bce9-95a333ebd4d3"
      },
      "outputs": [
        {
          "data": {
            "text/html": [
              "<div>\n",
              "<style scoped>\n",
              "    .dataframe tbody tr th:only-of-type {\n",
              "        vertical-align: middle;\n",
              "    }\n",
              "\n",
              "    .dataframe tbody tr th {\n",
              "        vertical-align: top;\n",
              "    }\n",
              "\n",
              "    .dataframe thead th {\n",
              "        text-align: right;\n",
              "    }\n",
              "</style>\n",
              "<table border=\"1\" class=\"dataframe\">\n",
              "  <thead>\n",
              "    <tr style=\"text-align: right;\">\n",
              "      <th></th>\n",
              "      <th>title</th>\n",
              "      <th>Category</th>\n",
              "      <th>genre</th>\n",
              "      <th>rating</th>\n",
              "      <th>date_added</th>\n",
              "      <th>duration</th>\n",
              "      <th>type</th>\n",
              "      <th>duration_in_mins</th>\n",
              "      <th>age</th>\n",
              "    </tr>\n",
              "  </thead>\n",
              "  <tbody>\n",
              "    <tr>\n",
              "      <th>0</th>\n",
              "      <td>DICK JOHNSON IS DEAD</td>\n",
              "      <td>DOCUMENTARIES</td>\n",
              "      <td>DOCUMENTARIES</td>\n",
              "      <td>PG-13</td>\n",
              "      <td>SEPTEMBER 25, 2021</td>\n",
              "      <td>90 MIN</td>\n",
              "      <td>MOVIE</td>\n",
              "      <td>90.0</td>\n",
              "      <td>13+</td>\n",
              "    </tr>\n",
              "    <tr>\n",
              "      <th>1</th>\n",
              "      <td>BLOOD &amp; WATER</td>\n",
              "      <td>INTERNATIONAL TV SHOWS</td>\n",
              "      <td>CHILDREN &amp; FAMILY</td>\n",
              "      <td>TV-MA</td>\n",
              "      <td>SEPTEMBER 24, 2021</td>\n",
              "      <td>2 SEASONS</td>\n",
              "      <td>TV SHOW</td>\n",
              "      <td>800.0</td>\n",
              "      <td>7+</td>\n",
              "    </tr>\n",
              "    <tr>\n",
              "      <th>2</th>\n",
              "      <td>GANGLANDS</td>\n",
              "      <td>CRIME TV SHOWS</td>\n",
              "      <td>HORROR &amp; THRILLERS</td>\n",
              "      <td>TV-MA</td>\n",
              "      <td>SEPTEMBER 24, 2021</td>\n",
              "      <td>1 SEASON</td>\n",
              "      <td>TV SHOW</td>\n",
              "      <td>400.0</td>\n",
              "      <td>18+</td>\n",
              "    </tr>\n",
              "    <tr>\n",
              "      <th>3</th>\n",
              "      <td>JAILBIRDS NEW ORLEANS</td>\n",
              "      <td>DOCUSERIES</td>\n",
              "      <td>DOCUMENTARIES</td>\n",
              "      <td>TV-MA</td>\n",
              "      <td>SEPTEMBER 24, 2021</td>\n",
              "      <td>1 SEASON</td>\n",
              "      <td>TV SHOW</td>\n",
              "      <td>400.0</td>\n",
              "      <td>13+</td>\n",
              "    </tr>\n",
              "    <tr>\n",
              "      <th>4</th>\n",
              "      <td>KOTA FACTORY</td>\n",
              "      <td>INTERNATIONAL TV SHOWS</td>\n",
              "      <td>CHILDREN &amp; FAMILY</td>\n",
              "      <td>TV-MA</td>\n",
              "      <td>SEPTEMBER 24, 2021</td>\n",
              "      <td>2 SEASONS</td>\n",
              "      <td>TV SHOW</td>\n",
              "      <td>800.0</td>\n",
              "      <td>7+</td>\n",
              "    </tr>\n",
              "  </tbody>\n",
              "</table>\n",
              "</div>"
            ],
            "text/plain": [
              "                   title                Category               genre rating  \\\n",
              "0   DICK JOHNSON IS DEAD           DOCUMENTARIES       DOCUMENTARIES  PG-13   \n",
              "1          BLOOD & WATER  INTERNATIONAL TV SHOWS   CHILDREN & FAMILY  TV-MA   \n",
              "2              GANGLANDS          CRIME TV SHOWS  HORROR & THRILLERS  TV-MA   \n",
              "3  JAILBIRDS NEW ORLEANS              DOCUSERIES       DOCUMENTARIES  TV-MA   \n",
              "4           KOTA FACTORY  INTERNATIONAL TV SHOWS   CHILDREN & FAMILY  TV-MA   \n",
              "\n",
              "           date_added   duration     type  duration_in_mins  age  \n",
              "0  SEPTEMBER 25, 2021     90 MIN    MOVIE              90.0  13+  \n",
              "1  SEPTEMBER 24, 2021  2 SEASONS  TV SHOW             800.0   7+  \n",
              "2  SEPTEMBER 24, 2021   1 SEASON  TV SHOW             400.0  18+  \n",
              "3  SEPTEMBER 24, 2021   1 SEASON  TV SHOW             400.0  13+  \n",
              "4  SEPTEMBER 24, 2021  2 SEASONS  TV SHOW             800.0   7+  "
            ]
          },
          "execution_count": 89,
          "metadata": {},
          "output_type": "execute_result"
        }
      ],
      "source": [
        "df.head()"
      ]
    },
    {
      "cell_type": "code",
      "execution_count": 90,
      "metadata": {
        "id": "a-oo1Q_cZW7r"
      },
      "outputs": [],
      "source": [
        "counts = df['rating'].value_counts()\n",
        "\n",
        "# Filter the dataframe to remove rows with counts less than 200\n",
        "df = df[df['rating'].isin(counts[counts > 1].index)]"
      ]
    },
    {
      "cell_type": "code",
      "execution_count": 91,
      "metadata": {
        "colab": {
          "base_uri": "https://localhost:8080/",
          "height": 531
        },
        "id": "F-iYU9HiZKgI",
        "outputId": "aecf0b5d-48e0-440c-cbe5-881e0680cbfc"
      },
      "outputs": [
        {
          "data": {
            "image/png": "[encoded data removed]",
            "text/plain": [
              "<Figure size 2500x800 with 1 Axes>"
            ]
          },
          "metadata": {},
          "output_type": "display_data"
        }
      ],
      "source": [
        "value_counts = df['rating'].value_counts()\n",
        "plt.figure(figsize=(25, 8))\n",
        "value_counts.plot(kind='bar')\n",
        "plt.title('Genre wise count of records')\n",
        "plt.xlabel('Genre')\n",
        "plt.ylabel('Count')\n",
        "for i, v in enumerate(value_counts):\n",
        "    plt.text(i - 0.1, v + 100, str(v))\n",
        "plt.show()"
      ]
    },
    {
      "cell_type": "code",
      "execution_count": 92,
      "metadata": {
        "id": "geyn3estrT3L"
      },
      "outputs": [],
      "source": [
        "df['date_added'] = df['date_added'].str.strip()"
      ]
    },
    {
      "cell_type": "code",
      "execution_count": 93,
      "metadata": {
        "id": "mBqGQwHQqPe4"
      },
      "outputs": [],
      "source": [
        "df['date_added'] = pd.to_datetime(df['date_added'], format='%B %d, %Y')"
      ]
    },
    {
      "cell_type": "code",
      "execution_count": 94,
      "metadata": {
        "id": "0RxGhbbfraSw"
      },
      "outputs": [],
      "source": [
        "df['day'] = df['date_added'].dt.day\n",
        "df['month'] = df['date_added'].dt.month\n",
        "df['year'] = df['date_added'].dt.year"
      ]
    },
    {
      "cell_type": "code",
      "execution_count": 95,
      "metadata": {
        "colab": {
          "base_uri": "https://localhost:8080/",
          "height": 425
        },
        "id": "LAcMPBzls6Xc",
        "outputId": "6524b9af-908d-44e6-e2e6-b6824f8557de"
      },
      "outputs": [
        {
          "data": {
            "text/html": [
              "<div>\n",
              "<style scoped>\n",
              "    .dataframe tbody tr th:only-of-type {\n",
              "        vertical-align: middle;\n",
              "    }\n",
              "\n",
              "    .dataframe tbody tr th {\n",
              "        vertical-align: top;\n",
              "    }\n",
              "\n",
              "    .dataframe thead th {\n",
              "        text-align: right;\n",
              "    }\n",
              "</style>\n",
              "<table border=\"1\" class=\"dataframe\">\n",
              "  <thead>\n",
              "    <tr style=\"text-align: right;\">\n",
              "      <th></th>\n",
              "      <th>column_name</th>\n",
              "      <th>missing_percentage</th>\n",
              "    </tr>\n",
              "  </thead>\n",
              "  <tbody>\n",
              "    <tr>\n",
              "      <th>0</th>\n",
              "      <td>date_added</td>\n",
              "      <td>0.11</td>\n",
              "    </tr>\n",
              "    <tr>\n",
              "      <th>1</th>\n",
              "      <td>day</td>\n",
              "      <td>0.11</td>\n",
              "    </tr>\n",
              "    <tr>\n",
              "      <th>2</th>\n",
              "      <td>month</td>\n",
              "      <td>0.11</td>\n",
              "    </tr>\n",
              "    <tr>\n",
              "      <th>3</th>\n",
              "      <td>year</td>\n",
              "      <td>0.11</td>\n",
              "    </tr>\n",
              "    <tr>\n",
              "      <th>4</th>\n",
              "      <td>title</td>\n",
              "      <td>0.00</td>\n",
              "    </tr>\n",
              "    <tr>\n",
              "      <th>5</th>\n",
              "      <td>Category</td>\n",
              "      <td>0.00</td>\n",
              "    </tr>\n",
              "    <tr>\n",
              "      <th>6</th>\n",
              "      <td>genre</td>\n",
              "      <td>0.00</td>\n",
              "    </tr>\n",
              "    <tr>\n",
              "      <th>7</th>\n",
              "      <td>rating</td>\n",
              "      <td>0.00</td>\n",
              "    </tr>\n",
              "    <tr>\n",
              "      <th>8</th>\n",
              "      <td>duration</td>\n",
              "      <td>0.00</td>\n",
              "    </tr>\n",
              "    <tr>\n",
              "      <th>9</th>\n",
              "      <td>type</td>\n",
              "      <td>0.00</td>\n",
              "    </tr>\n",
              "    <tr>\n",
              "      <th>10</th>\n",
              "      <td>duration_in_mins</td>\n",
              "      <td>0.00</td>\n",
              "    </tr>\n",
              "    <tr>\n",
              "      <th>11</th>\n",
              "      <td>age</td>\n",
              "      <td>0.00</td>\n",
              "    </tr>\n",
              "  </tbody>\n",
              "</table>\n",
              "</div>"
            ],
            "text/plain": [
              "         column_name  missing_percentage\n",
              "0         date_added                0.11\n",
              "1                day                0.11\n",
              "2              month                0.11\n",
              "3               year                0.11\n",
              "4              title                0.00\n",
              "5           Category                0.00\n",
              "6              genre                0.00\n",
              "7             rating                0.00\n",
              "8           duration                0.00\n",
              "9               type                0.00\n",
              "10  duration_in_mins                0.00\n",
              "11               age                0.00"
            ]
          },
          "execution_count": 95,
          "metadata": {},
          "output_type": "execute_result"
        }
      ],
      "source": [
        "missing_values_percentage(df)"
      ]
    },
    {
      "cell_type": "code",
      "execution_count": 96,
      "metadata": {
        "id": "djG42iZ_tJQ_"
      },
      "outputs": [],
      "source": [
        "df=df.dropna().reset_index(drop=True)"
      ]
    },
    {
      "cell_type": "code",
      "execution_count": 97,
      "metadata": {
        "id": "VpwNxrC0sahl"
      },
      "outputs": [],
      "source": [
        "df = df.astype({\"day\":\"int\",\"month\":\"int\",\"year\":\"int\"})"
      ]
    },
    {
      "cell_type": "code",
      "execution_count": 98,
      "metadata": {
        "colab": {
          "base_uri": "https://localhost:8080/",
          "height": 206
        },
        "id": "OUgxMQNal5fH",
        "outputId": "7e5fadbf-9383-4982-fd59-7dd3480e36d8"
      },
      "outputs": [
        {
          "data": {
            "text/html": [
              "<div>\n",
              "<style scoped>\n",
              "    .dataframe tbody tr th:only-of-type {\n",
              "        vertical-align: middle;\n",
              "    }\n",
              "\n",
              "    .dataframe tbody tr th {\n",
              "        vertical-align: top;\n",
              "    }\n",
              "\n",
              "    .dataframe thead th {\n",
              "        text-align: right;\n",
              "    }\n",
              "</style>\n",
              "<table border=\"1\" class=\"dataframe\">\n",
              "  <thead>\n",
              "    <tr style=\"text-align: right;\">\n",
              "      <th></th>\n",
              "      <th>title</th>\n",
              "      <th>Category</th>\n",
              "      <th>genre</th>\n",
              "      <th>rating</th>\n",
              "      <th>date_added</th>\n",
              "      <th>duration</th>\n",
              "      <th>type</th>\n",
              "      <th>duration_in_mins</th>\n",
              "      <th>age</th>\n",
              "      <th>day</th>\n",
              "      <th>month</th>\n",
              "      <th>year</th>\n",
              "    </tr>\n",
              "  </thead>\n",
              "  <tbody>\n",
              "    <tr>\n",
              "      <th>0</th>\n",
              "      <td>DICK JOHNSON IS DEAD</td>\n",
              "      <td>DOCUMENTARIES</td>\n",
              "      <td>DOCUMENTARIES</td>\n",
              "      <td>PG-13</td>\n",
              "      <td>2021-09-25</td>\n",
              "      <td>90 MIN</td>\n",
              "      <td>MOVIE</td>\n",
              "      <td>90.0</td>\n",
              "      <td>13+</td>\n",
              "      <td>25</td>\n",
              "      <td>9</td>\n",
              "      <td>2021</td>\n",
              "    </tr>\n",
              "    <tr>\n",
              "      <th>1</th>\n",
              "      <td>BLOOD &amp; WATER</td>\n",
              "      <td>INTERNATIONAL TV SHOWS</td>\n",
              "      <td>CHILDREN &amp; FAMILY</td>\n",
              "      <td>TV-MA</td>\n",
              "      <td>2021-09-24</td>\n",
              "      <td>2 SEASONS</td>\n",
              "      <td>TV SHOW</td>\n",
              "      <td>800.0</td>\n",
              "      <td>7+</td>\n",
              "      <td>24</td>\n",
              "      <td>9</td>\n",
              "      <td>2021</td>\n",
              "    </tr>\n",
              "    <tr>\n",
              "      <th>2</th>\n",
              "      <td>GANGLANDS</td>\n",
              "      <td>CRIME TV SHOWS</td>\n",
              "      <td>HORROR &amp; THRILLERS</td>\n",
              "      <td>TV-MA</td>\n",
              "      <td>2021-09-24</td>\n",
              "      <td>1 SEASON</td>\n",
              "      <td>TV SHOW</td>\n",
              "      <td>400.0</td>\n",
              "      <td>18+</td>\n",
              "      <td>24</td>\n",
              "      <td>9</td>\n",
              "      <td>2021</td>\n",
              "    </tr>\n",
              "    <tr>\n",
              "      <th>3</th>\n",
              "      <td>JAILBIRDS NEW ORLEANS</td>\n",
              "      <td>DOCUSERIES</td>\n",
              "      <td>DOCUMENTARIES</td>\n",
              "      <td>TV-MA</td>\n",
              "      <td>2021-09-24</td>\n",
              "      <td>1 SEASON</td>\n",
              "      <td>TV SHOW</td>\n",
              "      <td>400.0</td>\n",
              "      <td>13+</td>\n",
              "      <td>24</td>\n",
              "      <td>9</td>\n",
              "      <td>2021</td>\n",
              "    </tr>\n",
              "    <tr>\n",
              "      <th>4</th>\n",
              "      <td>KOTA FACTORY</td>\n",
              "      <td>INTERNATIONAL TV SHOWS</td>\n",
              "      <td>CHILDREN &amp; FAMILY</td>\n",
              "      <td>TV-MA</td>\n",
              "      <td>2021-09-24</td>\n",
              "      <td>2 SEASONS</td>\n",
              "      <td>TV SHOW</td>\n",
              "      <td>800.0</td>\n",
              "      <td>7+</td>\n",
              "      <td>24</td>\n",
              "      <td>9</td>\n",
              "      <td>2021</td>\n",
              "    </tr>\n",
              "  </tbody>\n",
              "</table>\n",
              "</div>"
            ],
            "text/plain": [
              "                   title                Category               genre rating  \\\n",
              "0   DICK JOHNSON IS DEAD           DOCUMENTARIES       DOCUMENTARIES  PG-13   \n",
              "1          BLOOD & WATER  INTERNATIONAL TV SHOWS   CHILDREN & FAMILY  TV-MA   \n",
              "2              GANGLANDS          CRIME TV SHOWS  HORROR & THRILLERS  TV-MA   \n",
              "3  JAILBIRDS NEW ORLEANS              DOCUSERIES       DOCUMENTARIES  TV-MA   \n",
              "4           KOTA FACTORY  INTERNATIONAL TV SHOWS   CHILDREN & FAMILY  TV-MA   \n",
              "\n",
              "  date_added   duration     type  duration_in_mins  age  day  month  year  \n",
              "0 2021-09-25     90 MIN    MOVIE              90.0  13+   25      9  2021  \n",
              "1 2021-09-24  2 SEASONS  TV SHOW             800.0   7+   24      9  2021  \n",
              "2 2021-09-24   1 SEASON  TV SHOW             400.0  18+   24      9  2021  \n",
              "3 2021-09-24   1 SEASON  TV SHOW             400.0  13+   24      9  2021  \n",
              "4 2021-09-24  2 SEASONS  TV SHOW             800.0   7+   24      9  2021  "
            ]
          },
          "execution_count": 98,
          "metadata": {},
          "output_type": "execute_result"
        }
      ],
      "source": [
        "df.head()"
      ]
    },
    {
      "cell_type": "code",
      "execution_count": 99,
      "metadata": {
        "colab": {
          "base_uri": "https://localhost:8080/"
        },
        "id": "LCuYDNNutkcn",
        "outputId": "8f2b50f3-0f86-4a34-9cce-37fb24b5287b"
      },
      "outputs": [
        {
          "name": "stdout",
          "output_type": "stream",
          "text": [
            "<class 'pandas.core.frame.DataFrame'>\n",
            "RangeIndex: 8790 entries, 0 to 8789\n",
            "Data columns (total 12 columns):\n",
            " #   Column            Non-Null Count  Dtype         \n",
            "---  ------            --------------  -----         \n",
            " 0   title             8790 non-null   object        \n",
            " 1   Category          8790 non-null   object        \n",
            " 2   genre             8790 non-null   object        \n",
            " 3   rating            8790 non-null   object        \n",
            " 4   date_added        8790 non-null   datetime64[ns]\n",
            " 5   duration          8790 non-null   object        \n",
            " 6   type              8790 non-null   object        \n",
            " 7   duration_in_mins  8790 non-null   float64       \n",
            " 8   age               8790 non-null   object        \n",
            " 9   day               8790 non-null   int32         \n",
            " 10  month             8790 non-null   int32         \n",
            " 11  year              8790 non-null   int32         \n",
            "dtypes: datetime64[ns](1), float64(1), int32(3), object(7)\n",
            "memory usage: 721.2+ KB\n"
          ]
        }
      ],
      "source": [
        "df.info()"
      ]
    },
    {
      "cell_type": "markdown",
      "metadata": {
        "id": "6O11vV0klUnd"
      },
      "source": [
        "# New Section"
      ]
    },
    {
      "cell_type": "code",
      "execution_count": 100,
      "metadata": {
        "id": "tMrHIAwgxkqZ"
      },
      "outputs": [],
      "source": [
        "df = df.drop(['title'], axis=1)\n",
        "df = df.drop(['duration'], axis=1)"
      ]
    },
    {
      "cell_type": "code",
      "execution_count": 101,
      "metadata": {
        "id": "P3Hsr2rJvxE6"
      },
      "outputs": [],
      "source": [
        "from sklearn.preprocessing import LabelEncoder\n",
        "le = LabelEncoder()\n",
        "columns = [\n",
        " 'Category',\n",
        " 'rating',\n",
        " 'day',\n",
        " 'month',\n",
        " 'year',\n",
        " 'duration_in_mins',\n",
        " 'age',\n",
        " 'genre']\n",
        "for col in columns:\n",
        "    df[col] = le.fit_transform(df[col])"
      ]
    },
    {
      "cell_type": "code",
      "execution_count": 102,
      "metadata": {
        "colab": {
          "base_uri": "https://localhost:8080/",
          "height": 596
        },
        "id": "x-1w56fxgZYE",
        "outputId": "f54f75f3-bff0-4edd-fa2a-467a44c9fc3b"
      },
      "outputs": [
        {
          "name": "stderr",
          "output_type": "stream",
          "text": [
            "C:\\Users\\mraka\\AppData\\Local\\Temp\\ipykernel_3936\\1395503371.py:1: FutureWarning: The default value of numeric_only in DataFrame.corr is deprecated. In a future version, it will default to False. Select only valid columns or specify the value of numeric_only to silence this warning.\n",
            "  corrmat = df.corr()\n"
          ]
        },
        {
          "data": {
            "image/png": "[encoded data removed]",
            "text/plain": [
              "<Figure size 2000x1000 with 2 Axes>"
            ]
          },
          "metadata": {},
          "output_type": "display_data"
        }
      ],
      "source": [
        "corrmat = df.corr()\n",
        "top_corr_features = corrmat.index\n",
        "plt.figure(figsize=(20,10))\n",
        "#plot heat map\n",
        "g=sns.heatmap(df[top_corr_features].corr(),annot=True,cmap=\"RdYlGn\")"
      ]
    },
    {
      "cell_type": "code",
      "execution_count": 103,
      "metadata": {
        "colab": {
          "base_uri": "https://localhost:8080/"
        },
        "id": "wH9KsojliCul",
        "outputId": "7dd92614-b265-4362-8b44-faed462cc8a6"
      },
      "outputs": [
        {
          "name": "stdout",
          "output_type": "stream",
          "text": [
            "<class 'pandas.core.frame.DataFrame'>\n",
            "RangeIndex: 8790 entries, 0 to 8789\n",
            "Data columns (total 10 columns):\n",
            " #   Column            Non-Null Count  Dtype         \n",
            "---  ------            --------------  -----         \n",
            " 0   Category          8790 non-null   int32         \n",
            " 1   genre             8790 non-null   int32         \n",
            " 2   rating            8790 non-null   int32         \n",
            " 3   date_added        8790 non-null   datetime64[ns]\n",
            " 4   type              8790 non-null   object        \n",
            " 5   duration_in_mins  8790 non-null   int64         \n",
            " 6   age               8790 non-null   int32         \n",
            " 7   day               8790 non-null   int64         \n",
            " 8   month             8790 non-null   int64         \n",
            " 9   year              8790 non-null   int64         \n",
            "dtypes: datetime64[ns](1), int32(4), int64(4), object(1)\n",
            "memory usage: 549.5+ KB\n"
          ]
        }
      ],
      "source": [
        "df.info()"
      ]
    },
    {
      "cell_type": "code",
      "execution_count": 104,
      "metadata": {
        "id": "Zm6uZ5L-iQwK"
      },
      "outputs": [],
      "source": [
        "df = df.dropna(subset=['date_added'])\n",
        "df = df.reset_index(drop=True)"
      ]
    },
    {
      "cell_type": "code",
      "execution_count": 105,
      "metadata": {
        "colab": {
          "base_uri": "https://localhost:8080/"
        },
        "id": "C0cxJxs_ikhO",
        "outputId": "29eca174-615c-449d-8be4-25de0b15eab4"
      },
      "outputs": [
        {
          "data": {
            "text/plain": [
              "['Category',\n",
              " 'genre',\n",
              " 'rating',\n",
              " 'date_added',\n",
              " 'type',\n",
              " 'duration_in_mins',\n",
              " 'age',\n",
              " 'day',\n",
              " 'month',\n",
              " 'year']"
            ]
          },
          "execution_count": 105,
          "metadata": {},
          "output_type": "execute_result"
        }
      ],
      "source": [
        "list(df.columns)"
      ]
    },
    {
      "cell_type": "code",
      "execution_count": 106,
      "metadata": {
        "id": "Hn2ee5hnhQWq"
      },
      "outputs": [],
      "source": [
        "X1 = df[[\n",
        " \n",
        " 'rating',\n",
        " 'duration_in_mins',\n",
        " 'age',\n",
        " 'day','month','year']]"
      ]
    },
    {
      "cell_type": "code",
      "execution_count": 107,
      "metadata": {
        "id": "CnAvTKHoixov"
      },
      "outputs": [],
      "source": [
        "Y = df['genre']"
      ]
    },
    {
      "cell_type": "code",
      "execution_count": 108,
      "metadata": {
        "id": "L2a7dBVBi355"
      },
      "outputs": [
        {
          "data": {
            "text/plain": [
              "0.6497155858930602"
            ]
          },
          "execution_count": 108,
          "metadata": {},
          "output_type": "execute_result"
        }
      ],
      "source": [
        "#X1_train, X1_test, y_train, y_test = train_test_split(X1, Y, test_size = 0.20)\n",
        "\n",
        "cv = KFold(n_splits=10, random_state=1, shuffle=True)\n",
        "model = RandomForestClassifier()  \n",
        "scores = cross_val_score(model, X1, Y, scoring='neg_mean_absolute_error',cv=cv, n_jobs=-1)\n",
        "#view MAE\n",
        "mean(absolute(scores))"
      ]
    },
    {
      "cell_type": "code",
      "execution_count": 109,
      "metadata": {},
      "outputs": [
        {
          "data": {
            "text/plain": [
              "1.6973512122293453"
            ]
          },
          "execution_count": 109,
          "metadata": {},
          "output_type": "execute_result"
        }
      ],
      "source": [
        "cv = KFold(n_splits=5, random_state=1, shuffle=True) \n",
        "scores = cross_val_score(model, X1, Y, scoring='neg_mean_squared_error',\n",
        "                         cv=cv, n_jobs=-1)\n",
        "\n",
        "#view RMSE\n",
        "sqrt(mean(absolute(scores)))"
      ]
    },
    {
      "cell_type": "code",
      "execution_count": 110,
      "metadata": {},
      "outputs": [],
      "source": [
        "X1_train, X1_test, y_train, y_test = train_test_split(X1, Y, test_size = 0.20)"
      ]
    },
    {
      "cell_type": "code",
      "execution_count": 111,
      "metadata": {
        "colab": {
          "base_uri": "https://localhost:8080/"
        },
        "id": "Zp8diQ5ri58o",
        "outputId": "bcd1190c-2a40-4fb9-ec31-1967e3e19cdb"
      },
      "outputs": [
        {
          "name": "stdout",
          "output_type": "stream",
          "text": [
            "\n",
            "ACCURACY OF THE MODEL:  0.7997724687144482\n",
            "r2_score OF THE MODEL:  0.07713908231489164\n"
          ]
        }
      ],
      "source": [
        "clf = RandomForestClassifier(n_estimators = 100)  \n",
        "  \n",
        "# Training the model on the training dataset\n",
        "# fit function is used to train the model using the training sets as parameters\n",
        "clf.fit(X1_train, y_train)\n",
        "  \n",
        "# performing predictions on the test dataset\n",
        "y_pred = clf.predict(X1_test)\n",
        "  \n",
        "# metrics are used to find accuracy or error\n",
        "from sklearn import metrics  \n",
        "print()\n",
        "  \n",
        "# using metrics module for accuracy calculation\n",
        "print(\"ACCURACY OF THE MODEL: \", metrics.accuracy_score(y_test, y_pred))\n",
        "print(\"r2_score OF THE MODEL: \", metrics.r2_score(y_test,y_pred))"
      ]
    },
    {
      "cell_type": "code",
      "execution_count": 112,
      "metadata": {
        "colab": {
          "base_uri": "https://localhost:8080/"
        },
        "id": "3Ua6DVp3xAtD",
        "outputId": "52193a18-6966-4aef-fc25-ec73631d12d1"
      },
      "outputs": [
        {
          "name": "stdout",
          "output_type": "stream",
          "text": [
            "Accuracy: 0.7605233219567691\n"
          ]
        }
      ],
      "source": [
        "from sklearn.tree import DecisionTreeClassifier\n",
        "from sklearn.metrics import accuracy_score\n",
        "from sklearn.metrics import classification_report\n",
        "from sklearn import tree\n",
        "clf = DecisionTreeClassifier()\n",
        "\n",
        "# Train Decision Tree Classifer\n",
        "clf = clf.fit(X1_train,y_train)\n",
        "\n",
        "#Predict the response for test dataset\n",
        "y_pred = clf.predict(X1_test)\n",
        "print(\"Accuracy:\",metrics.accuracy_score(y_test, y_pred))"
      ]
    },
    {
      "cell_type": "code",
      "execution_count": 115,
      "metadata": {},
      "outputs": [],
      "source": [
        "RandomForest =  RandomForestClassifier()\n",
        "DecisionTeree  = DecisionTreeClassifier()\n",
        "Logisticreg = LogisticRegression()\n",
        "SVM =  SVC()\n",
        "KNN = KNeighborsClassifier()"
      ]
    },
    {
      "cell_type": "code",
      "execution_count": 116,
      "metadata": {},
      "outputs": [
        {
          "name": "stdout",
          "output_type": "stream",
          "text": [
            "RandomForestClassifier()\n",
            "Accuracy: 0.7986348122866894\n",
            "DecisionTreeClassifier()\n",
            "Accuracy: 0.7610921501706485\n",
            "LogisticRegression()\n",
            "Accuracy: 0.5574516496018203\n",
            "SVC()\n"
          ]
        },
        {
          "name": "stderr",
          "output_type": "stream",
          "text": [
            "c:\\Python311\\Lib\\site-packages\\sklearn\\linear_model\\_logistic.py:458: ConvergenceWarning: lbfgs failed to converge (status=1):\n",
            "STOP: TOTAL NO. of ITERATIONS REACHED LIMIT.\n",
            "\n",
            "Increase the number of iterations (max_iter) or scale the data as shown in:\n",
            "    https://scikit-learn.org/stable/modules/preprocessing.html\n",
            "Please also refer to the documentation for alternative solver options:\n",
            "    https://scikit-learn.org/stable/modules/linear_model.html#logistic-regression\n",
            "  n_iter_i = _check_optimize_result(\n"
          ]
        },
        {
          "name": "stdout",
          "output_type": "stream",
          "text": [
            "Accuracy: 0.4055745164960182\n",
            "KNeighborsClassifier()\n",
            "Accuracy: 0.4943117178612059\n"
          ]
        }
      ],
      "source": [
        "model = [RandomForest,DecisionTeree,Logisticreg,SVM,KNN]\n",
        "\n",
        "for i in range (0,len(model)):\n",
        "    print(model[i])\n",
        "    model[i] =model[i].fit(X1_train,y_train)\n",
        "    y_pred = model[i].predict(X1_test)\n",
        "    print(\"Accuracy:\",metrics.accuracy_score(y_test, y_pred))\n"
      ]
    },
    {
      "cell_type": "code",
      "execution_count": null,
      "metadata": {},
      "outputs": [],
      "source": []
    }
  ],
  "metadata": {
    "colab": {
      "authorship_tag": "ABX9TyOheC8bo+sTlq+uUQuZIXwo",
      "include_colab_link": true,
      "provenance": []
    },
    "kernelspec": {
      "display_name": "Python 3",
      "language": "python",
      "name": "python3"
    },
    "language_info": {
      "codemirror_mode": {
        "name": "ipython",
        "version": 3
      },
      "file_extension": ".py",
      "mimetype": "text/x-python",
      "name": "python",
      "nbconvert_exporter": "python",
      "pygments_lexer": "ipython3",
      "version": "3.11.0"
    },
    "vscode": {
      "interpreter": {
        "hash": "c261aea317cc0286b3b3261fbba9abdec21eaa57589985bb7a274bf54d6cc0a7"
      }
    }
  },
  "nbformat": 4,
  "nbformat_minor": 0
}
